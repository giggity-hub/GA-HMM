{
 "cells": [
  {
   "cell_type": "code",
   "execution_count": null,
   "metadata": {},
   "outputs": [],
   "source": [
    "# \n",
    "\n",
    "population_size = 30\n",
    "mutation_rate = 0.0001\n",
    "crossover_rate = 0.01\n",
    "\n",
    "n_symbols = 256\n",
    "n_states = 5"
   ]
  }
 ],
 "metadata": {
  "kernelspec": {
   "display_name": "ga_hmm",
   "language": "python",
   "name": "ga_hmm"
  },
  "language_info": {
   "name": "python",
   "version": "3.10.8"
  },
  "vscode": {
   "interpreter": {
    "hash": "b23e814baf2fee96f2368e6a72b1238693681cf45c84ea9e07cfce4cf6e84dc1"
   }
  }
 },
 "nbformat": 4,
 "nbformat_minor": 5
}
