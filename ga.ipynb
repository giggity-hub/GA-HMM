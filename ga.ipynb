{
 "cells": [
  {
   "cell_type": "code",
   "execution_count": 5,
   "metadata": {},
   "outputs": [
    {
     "name": "stdout",
     "output_type": "stream",
     "text": [
      "The autoreload extension is already loaded. To reload it, use:\n",
      "  %reload_ext autoreload\n"
     ]
    }
   ],
   "source": [
    "%load_ext autoreload\n",
    "%autoreload 2\n",
    "from lib.utils import rand_stochastic_matrix, rand_stochastic_vector\n",
    "import numpy.random as npr\n",
    "from hmm.bw import HMM\n",
    "import numpy\n",
    "from pomegranate import HiddenMarkovModel, DiscreteDistribution\n",
    "from hmm.hmm import get_discrete_hmm_params"
   ]
  },
  {
   "cell_type": "code",
   "execution_count": 161,
   "metadata": {},
   "outputs": [
    {
     "name": "stdout",
     "output_type": "stream",
     "text": [
      "-4.236352040308605\n",
      "-1.3907929383893116\n"
     ]
    }
   ],
   "source": [
    "n_states = 3\n",
    "n_symbols = 5\n",
    "\n",
    "pi = rand_stochastic_vector(n_states)\n",
    "b = rand_stochastic_matrix(n_states, n_symbols)\n",
    "a = rand_stochastic_matrix(n_states, n_states)\n",
    "\n",
    "# print(pi)\n",
    "\n",
    "\n",
    "\n",
    "\n",
    "# Create Models\n",
    "alphabet = [i for i in range(n_symbols)]\n",
    "dists = [DiscreteDistribution(dict(zip(alphabet, b[i]))) for i in range(n_states)]\n",
    "model2 = HiddenMarkovModel.from_matrix(a, dists, pi)\n",
    "\n",
    "model1 = HMM(pi[:], b[:, :], a[:, :])\n",
    "\n",
    "\n",
    "\n",
    "\n",
    "def compare_backwards(m1: HMM, m2: HiddenMarkovModel, O):\n",
    "    backwards1 = m1.calc_beta(O)\n",
    "    backwards2 = m2.backward(O)\n",
    "\n",
    "    print(numpy.log(backwards1 ))\n",
    "    print(backwards2)\n",
    "\n",
    "def compare_forward(m1: HMM, m2: HiddenMarkovModel, O):\n",
    "    forward1, log_P = m1.calc_alpha(O)\n",
    "    forward2 = m2.forward(O)\n",
    "\n",
    "    print(numpy.log(forward1))\n",
    "    print(forward2)\n",
    "\n",
    "def compare_forward_scaled(m1: HMM, m2: HiddenMarkovModel, O):\n",
    "    fw1, scalars = m1.calc_alpha_scaled(O)\n",
    "    fw2 = m2.forward(O)\n",
    "\n",
    "def compare_fitness_unscaled(m1: HMM, m2: HiddenMarkovModel, O):\n",
    "    m1.fit(O, max_iterations=10)\n",
    "    m2 = m2.fit([O], max_iterations=10)\n",
    "\n",
    "    p1 = m1.log_prob(O)\n",
    "    print(p1)\n",
    "\n",
    "    p2 = m2.log_probability(O)\n",
    "    print(p2)\n",
    "\n",
    "\n",
    "T = 5\n",
    "O = npr.randint(low=0, high=n_symbols,  size=T)\n",
    "compare_fitness_unscaled(model1, model2, O)\n",
    "# compare_backwards(model1, model2, O)\n",
    "# compare_forward(model1, model2, O)\n",
    "\n",
    "\n",
    "\n",
    "\n",
    "\n",
    "\n",
    "# pi1 = model1.pi \n",
    "# b1 = model1.b\n",
    "# a1 = model1.a\n",
    "\n",
    "# model2.fit([O], max_iterations=1)\n",
    "# p2 = model2.log_probability(O)\n",
    "\n",
    "\n",
    "# print(pi)\n",
    "# print(pi1)\n",
    "# print(pi2)"
   ]
  }
 ],
 "metadata": {
  "kernelspec": {
   "display_name": "ga_hmm",
   "language": "python",
   "name": "ga_hmm"
  },
  "language_info": {
   "codemirror_mode": {
    "name": "ipython",
    "version": 3
   },
   "file_extension": ".py",
   "mimetype": "text/x-python",
   "name": "python",
   "nbconvert_exporter": "python",
   "pygments_lexer": "ipython3",
   "version": "3.10.8 (tags/v3.10.8:aaaf517, Oct 11 2022, 16:50:30) [MSC v.1933 64 bit (AMD64)]"
  },
  "orig_nbformat": 4,
  "vscode": {
   "interpreter": {
    "hash": "86f440ce47a61c377a728eae3dccb8b2de427aff4d1fc371d180edea3382aa4a"
   }
  }
 },
 "nbformat": 4,
 "nbformat_minor": 2
}
