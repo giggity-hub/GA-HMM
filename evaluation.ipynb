{
 "cells": [
  {
   "cell_type": "code",
   "execution_count": 2,
   "metadata": {},
   "outputs": [],
   "source": [
    "from hmm.bw import train_multiple_observations\n",
    "from hmm.hmm import random_left_right_hmm_params\n",
    "from data.digits import DigitDataset\n",
    "\n",
    "hmm_params = random_left_right_hmm_params(n_states=4, n_symbols=128)\n",
    "train_data = DigitDataset(dataset='train')\n",
    "observations = train_data.get_first_n_observations(0, 10)\n",
    "reestimated_params, trace = train_multiple_observations(hmm_params, observations, n_iterations=10)"
   ]
  },
  {
   "cell_type": "code",
   "execution_count": 4,
   "metadata": {},
   "outputs": [
    {
     "data": {
      "text/plain": [
       "array([[0.00000000e+000, 0.00000000e+000, 0.00000000e+000,\n",
       "        0.00000000e+000, 0.00000000e+000, 0.00000000e+000,\n",
       "        6.30959891e-002, 0.00000000e+000, 0.00000000e+000,\n",
       "        0.00000000e+000, 0.00000000e+000, 1.96661975e-051,\n",
       "        0.00000000e+000, 0.00000000e+000, 0.00000000e+000,\n",
       "        0.00000000e+000, 0.00000000e+000, 0.00000000e+000,\n",
       "        0.00000000e+000, 0.00000000e+000, 0.00000000e+000,\n",
       "        0.00000000e+000, 0.00000000e+000, 0.00000000e+000,\n",
       "        0.00000000e+000, 0.00000000e+000, 0.00000000e+000,\n",
       "        0.00000000e+000, 0.00000000e+000, 0.00000000e+000,\n",
       "        0.00000000e+000, 0.00000000e+000, 0.00000000e+000,\n",
       "        0.00000000e+000, 0.00000000e+000, 0.00000000e+000,\n",
       "        0.00000000e+000, 0.00000000e+000, 0.00000000e+000,\n",
       "        0.00000000e+000, 0.00000000e+000, 4.76464937e-001,\n",
       "        0.00000000e+000, 0.00000000e+000, 9.37593941e-003,\n",
       "        0.00000000e+000, 0.00000000e+000, 0.00000000e+000,\n",
       "        0.00000000e+000, 0.00000000e+000, 0.00000000e+000,\n",
       "        0.00000000e+000, 0.00000000e+000, 0.00000000e+000,\n",
       "        0.00000000e+000, 0.00000000e+000, 0.00000000e+000,\n",
       "        0.00000000e+000, 0.00000000e+000, 0.00000000e+000,\n",
       "        0.00000000e+000, 0.00000000e+000, 0.00000000e+000,\n",
       "        0.00000000e+000, 0.00000000e+000, 0.00000000e+000,\n",
       "        0.00000000e+000, 5.49525299e-080, 0.00000000e+000,\n",
       "        3.46130000e-014, 0.00000000e+000, 0.00000000e+000,\n",
       "        0.00000000e+000, 0.00000000e+000, 0.00000000e+000,\n",
       "        0.00000000e+000, 0.00000000e+000, 0.00000000e+000,\n",
       "        6.69244448e-002, 1.90957294e-001, 4.82823521e-002,\n",
       "        1.75731374e-006, 3.27957613e-002, 0.00000000e+000,\n",
       "        0.00000000e+000, 0.00000000e+000, 0.00000000e+000,\n",
       "        0.00000000e+000, 0.00000000e+000, 0.00000000e+000,\n",
       "        0.00000000e+000, 0.00000000e+000, 0.00000000e+000,\n",
       "        0.00000000e+000, 0.00000000e+000, 0.00000000e+000,\n",
       "        2.81267325e-006, 0.00000000e+000, 0.00000000e+000,\n",
       "        0.00000000e+000, 0.00000000e+000, 0.00000000e+000,\n",
       "        0.00000000e+000, 0.00000000e+000, 0.00000000e+000,\n",
       "        0.00000000e+000, 1.84728529e-008, 0.00000000e+000,\n",
       "        0.00000000e+000, 0.00000000e+000, 0.00000000e+000,\n",
       "        0.00000000e+000, 0.00000000e+000, 1.12098693e-001,\n",
       "        0.00000000e+000, 0.00000000e+000, 0.00000000e+000,\n",
       "        0.00000000e+000, 0.00000000e+000, 0.00000000e+000,\n",
       "        0.00000000e+000, 0.00000000e+000, 0.00000000e+000,\n",
       "        0.00000000e+000, 3.11416337e-225, 0.00000000e+000,\n",
       "        0.00000000e+000, 0.00000000e+000],\n",
       "       [0.00000000e+000, 0.00000000e+000, 1.37388488e-002,\n",
       "        0.00000000e+000, 0.00000000e+000, 1.01440608e-039,\n",
       "        1.81613451e-002, 0.00000000e+000, 0.00000000e+000,\n",
       "        9.17912260e-028, 0.00000000e+000, 1.23649639e-001,\n",
       "        0.00000000e+000, 0.00000000e+000, 0.00000000e+000,\n",
       "        0.00000000e+000, 0.00000000e+000, 0.00000000e+000,\n",
       "        1.37388488e-002, 0.00000000e+000, 0.00000000e+000,\n",
       "        0.00000000e+000, 0.00000000e+000, 0.00000000e+000,\n",
       "        0.00000000e+000, 0.00000000e+000, 0.00000000e+000,\n",
       "        0.00000000e+000, 0.00000000e+000, 0.00000000e+000,\n",
       "        0.00000000e+000, 0.00000000e+000, 0.00000000e+000,\n",
       "        0.00000000e+000, 0.00000000e+000, 0.00000000e+000,\n",
       "        0.00000000e+000, 0.00000000e+000, 0.00000000e+000,\n",
       "        0.00000000e+000, 0.00000000e+000, 3.39590338e-002,\n",
       "        0.00000000e+000, 0.00000000e+000, 2.29325093e-001,\n",
       "        0.00000000e+000, 0.00000000e+000, 0.00000000e+000,\n",
       "        0.00000000e+000, 0.00000000e+000, 0.00000000e+000,\n",
       "        0.00000000e+000, 0.00000000e+000, 0.00000000e+000,\n",
       "        0.00000000e+000, 0.00000000e+000, 0.00000000e+000,\n",
       "        0.00000000e+000, 0.00000000e+000, 0.00000000e+000,\n",
       "        0.00000000e+000, 0.00000000e+000, 0.00000000e+000,\n",
       "        0.00000000e+000, 0.00000000e+000, 0.00000000e+000,\n",
       "        0.00000000e+000, 1.09646889e-033, 0.00000000e+000,\n",
       "        2.74776976e-002, 0.00000000e+000, 0.00000000e+000,\n",
       "        0.00000000e+000, 0.00000000e+000, 0.00000000e+000,\n",
       "        0.00000000e+000, 0.00000000e+000, 0.00000000e+000,\n",
       "        8.16525858e-002, 4.36535272e-002, 1.03423125e-001,\n",
       "        4.76201825e-002, 0.00000000e+000, 0.00000000e+000,\n",
       "        0.00000000e+000, 0.00000000e+000, 0.00000000e+000,\n",
       "        0.00000000e+000, 0.00000000e+000, 0.00000000e+000,\n",
       "        0.00000000e+000, 0.00000000e+000, 0.00000000e+000,\n",
       "        0.00000000e+000, 0.00000000e+000, 0.00000000e+000,\n",
       "        3.73387801e-002, 0.00000000e+000, 0.00000000e+000,\n",
       "        0.00000000e+000, 0.00000000e+000, 0.00000000e+000,\n",
       "        0.00000000e+000, 0.00000000e+000, 0.00000000e+000,\n",
       "        2.74776976e-002, 5.34140812e-002, 0.00000000e+000,\n",
       "        0.00000000e+000, 0.00000000e+000, 0.00000000e+000,\n",
       "        0.00000000e+000, 0.00000000e+000, 1.45369515e-001,\n",
       "        0.00000000e+000, 0.00000000e+000, 0.00000000e+000,\n",
       "        0.00000000e+000, 0.00000000e+000, 0.00000000e+000,\n",
       "        0.00000000e+000, 0.00000000e+000, 0.00000000e+000,\n",
       "        0.00000000e+000, 1.57737884e-036, 0.00000000e+000,\n",
       "        0.00000000e+000, 0.00000000e+000],\n",
       "       [0.00000000e+000, 0.00000000e+000, 0.00000000e+000,\n",
       "        0.00000000e+000, 0.00000000e+000, 1.22931124e-001,\n",
       "        2.05401933e-001, 0.00000000e+000, 0.00000000e+000,\n",
       "        1.84250799e-002, 0.00000000e+000, 0.00000000e+000,\n",
       "        0.00000000e+000, 0.00000000e+000, 0.00000000e+000,\n",
       "        0.00000000e+000, 0.00000000e+000, 0.00000000e+000,\n",
       "        7.37606697e-235, 0.00000000e+000, 0.00000000e+000,\n",
       "        0.00000000e+000, 0.00000000e+000, 0.00000000e+000,\n",
       "        0.00000000e+000, 0.00000000e+000, 0.00000000e+000,\n",
       "        0.00000000e+000, 0.00000000e+000, 0.00000000e+000,\n",
       "        0.00000000e+000, 0.00000000e+000, 0.00000000e+000,\n",
       "        0.00000000e+000, 3.88028818e-002, 0.00000000e+000,\n",
       "        0.00000000e+000, 0.00000000e+000, 0.00000000e+000,\n",
       "        0.00000000e+000, 0.00000000e+000, 1.67888026e-016,\n",
       "        0.00000000e+000, 0.00000000e+000, 5.19053100e-002,\n",
       "        0.00000000e+000, 0.00000000e+000, 0.00000000e+000,\n",
       "        0.00000000e+000, 0.00000000e+000, 0.00000000e+000,\n",
       "        0.00000000e+000, 0.00000000e+000, 0.00000000e+000,\n",
       "        0.00000000e+000, 0.00000000e+000, 0.00000000e+000,\n",
       "        0.00000000e+000, 0.00000000e+000, 0.00000000e+000,\n",
       "        0.00000000e+000, 0.00000000e+000, 0.00000000e+000,\n",
       "        0.00000000e+000, 0.00000000e+000, 0.00000000e+000,\n",
       "        0.00000000e+000, 2.00571834e-001, 0.00000000e+000,\n",
       "        0.00000000e+000, 0.00000000e+000, 4.97605152e-050,\n",
       "        0.00000000e+000, 3.29162782e-008, 0.00000000e+000,\n",
       "        0.00000000e+000, 0.00000000e+000, 0.00000000e+000,\n",
       "        1.04602006e-004, 2.15806323e-012, 0.00000000e+000,\n",
       "        1.63941556e-002, 0.00000000e+000, 0.00000000e+000,\n",
       "        0.00000000e+000, 0.00000000e+000, 0.00000000e+000,\n",
       "        0.00000000e+000, 0.00000000e+000, 0.00000000e+000,\n",
       "        0.00000000e+000, 0.00000000e+000, 0.00000000e+000,\n",
       "        0.00000000e+000, 0.00000000e+000, 0.00000000e+000,\n",
       "        8.29566724e-003, 0.00000000e+000, 0.00000000e+000,\n",
       "        0.00000000e+000, 6.46200594e-003, 0.00000000e+000,\n",
       "        0.00000000e+000, 0.00000000e+000, 0.00000000e+000,\n",
       "        1.23355075e-031, 9.77767372e-002, 0.00000000e+000,\n",
       "        0.00000000e+000, 0.00000000e+000, 0.00000000e+000,\n",
       "        0.00000000e+000, 0.00000000e+000, 6.50745855e-006,\n",
       "        0.00000000e+000, 0.00000000e+000, 0.00000000e+000,\n",
       "        0.00000000e+000, 0.00000000e+000, 2.60466603e-054,\n",
       "        0.00000000e+000, 0.00000000e+000, 0.00000000e+000,\n",
       "        0.00000000e+000, 2.32922129e-001, 0.00000000e+000,\n",
       "        0.00000000e+000, 0.00000000e+000],\n",
       "       [0.00000000e+000, 0.00000000e+000, 0.00000000e+000,\n",
       "        0.00000000e+000, 0.00000000e+000, 4.79437607e-042,\n",
       "        2.80604184e-005, 0.00000000e+000, 0.00000000e+000,\n",
       "        5.57375311e-004, 0.00000000e+000, 0.00000000e+000,\n",
       "        0.00000000e+000, 7.32161275e-003, 0.00000000e+000,\n",
       "        0.00000000e+000, 1.46432255e-001, 0.00000000e+000,\n",
       "        7.32161275e-002, 0.00000000e+000, 1.09824191e-002,\n",
       "        0.00000000e+000, 0.00000000e+000, 0.00000000e+000,\n",
       "        0.00000000e+000, 0.00000000e+000, 0.00000000e+000,\n",
       "        0.00000000e+000, 0.00000000e+000, 0.00000000e+000,\n",
       "        0.00000000e+000, 0.00000000e+000, 0.00000000e+000,\n",
       "        0.00000000e+000, 9.88638795e-006, 0.00000000e+000,\n",
       "        9.51809657e-002, 0.00000000e+000, 3.66080637e-003,\n",
       "        0.00000000e+000, 0.00000000e+000, 0.00000000e+000,\n",
       "        1.46432255e-002, 0.00000000e+000, 1.34911942e-287,\n",
       "        0.00000000e+000, 4.75904829e-002, 0.00000000e+000,\n",
       "        0.00000000e+000, 0.00000000e+000, 8.05377402e-002,\n",
       "        0.00000000e+000, 0.00000000e+000, 3.66080637e-003,\n",
       "        0.00000000e+000, 0.00000000e+000, 0.00000000e+000,\n",
       "        0.00000000e+000, 3.66080637e-003, 0.00000000e+000,\n",
       "        0.00000000e+000, 0.00000000e+000, 0.00000000e+000,\n",
       "        0.00000000e+000, 0.00000000e+000, 0.00000000e+000,\n",
       "        0.00000000e+000, 6.43760408e-020, 0.00000000e+000,\n",
       "        0.00000000e+000, 0.00000000e+000, 3.66080637e-003,\n",
       "        0.00000000e+000, 8.05377216e-002, 0.00000000e+000,\n",
       "        0.00000000e+000, 0.00000000e+000, 0.00000000e+000,\n",
       "        0.00000000e+000, 0.00000000e+000, 0.00000000e+000,\n",
       "        7.85972165e-238, 0.00000000e+000, 7.32161275e-003,\n",
       "        0.00000000e+000, 3.66080637e-003, 0.00000000e+000,\n",
       "        0.00000000e+000, 0.00000000e+000, 8.05377402e-002,\n",
       "        0.00000000e+000, 0.00000000e+000, 0.00000000e+000,\n",
       "        0.00000000e+000, 0.00000000e+000, 0.00000000e+000,\n",
       "        2.61156062e-015, 5.85729020e-002, 0.00000000e+000,\n",
       "        0.00000000e+000, 4.55656300e-006, 0.00000000e+000,\n",
       "        0.00000000e+000, 0.00000000e+000, 0.00000000e+000,\n",
       "        0.00000000e+000, 3.01495184e-112, 7.32161275e-002,\n",
       "        0.00000000e+000, 0.00000000e+000, 0.00000000e+000,\n",
       "        0.00000000e+000, 0.00000000e+000, 0.00000000e+000,\n",
       "        0.00000000e+000, 8.05377402e-002, 7.32161275e-003,\n",
       "        4.75904829e-002, 0.00000000e+000, 6.58945147e-002,\n",
       "        0.00000000e+000, 0.00000000e+000, 0.00000000e+000,\n",
       "        3.66080637e-003, 1.18780897e-013, 0.00000000e+000,\n",
       "        0.00000000e+000, 0.00000000e+000]])"
      ]
     },
     "execution_count": 4,
     "metadata": {},
     "output_type": "execute_result"
    }
   ],
   "source": [
    "reestimated_params.emission_matrix"
   ]
  },
  {
   "cell_type": "code",
   "execution_count": 1,
   "metadata": {},
   "outputs": [],
   "source": [
    "%load_ext autoreload\n",
    "%autoreload 2\n",
    "\n",
    "from hmm.hmm import random_left_right_hmm_params\n",
    "import numpy as np\n",
    "import hmm.bw as bw\n",
    "from data.digits import DigitDataset\n",
    "import matplotlib.pyplot as plt\n",
    "import seaborn as sns\n",
    "from ga.numba_ga import GaHMM\n",
    "\n",
    "import ga.fitness as fitness\n",
    "import ga.mutation as mutation\n",
    "import ga.selection as selection\n",
    "import ga.crossover as crossover\n"
   ]
  },
  {
   "attachments": {},
   "cell_type": "markdown",
   "metadata": {},
   "source": [
    "#### Drawing n random HMMs and then optimizing them for k steps"
   ]
  },
  {
   "cell_type": "code",
   "execution_count": 2,
   "metadata": {},
   "outputs": [],
   "source": [
    "training_data = DigitDataset('train')\n",
    "n_samples = 10\n",
    "observations = training_data.get_first_n_observations(category=0, n_observations=n_samples)\n",
    "\n",
    "n_hmms = 50\n",
    "n_iterations = 2000\n",
    "\n",
    "n_states = 4\n",
    "n_symbols = 128\n",
    "\n",
    "# gabw.population"
   ]
  },
  {
   "cell_type": "code",
   "execution_count": 4,
   "metadata": {},
   "outputs": [
    {
     "ename": "IndexError",
     "evalue": "index 21 is out of bounds for axis 1 with size 21",
     "output_type": "error",
     "traceback": [
      "\u001b[1;31m---------------------------------------------------------------------------\u001b[0m",
      "\u001b[1;31mIndexError\u001b[0m                                Traceback (most recent call last)",
      "Cell \u001b[1;32mIn [4], line 13\u001b[0m\n\u001b[0;32m     11\u001b[0m gabw\u001b[39m.\u001b[39mparent_select_func \u001b[39m=\u001b[39m selection\u001b[39m.\u001b[39mrank_selection_factory(gabw\u001b[39m.\u001b[39mpopulation_size)\n\u001b[0;32m     12\u001b[0m gabw\u001b[39m.\u001b[39mtrain_population_with_baum_welch(observations, \u001b[39m10\u001b[39m)\n\u001b[1;32m---> 13\u001b[0m gabw\u001b[39m.\u001b[39;49mstart()\n\u001b[0;32m     14\u001b[0m gabw\u001b[39m.\u001b[39mplot()\n",
      "File \u001b[1;32mc:\\Users\\imigs\\Desktop\\GA HMM\\ga\\numba_ga.py:405\u001b[0m, in \u001b[0;36mGaHMM.start\u001b[1;34m(self)\u001b[0m\n\u001b[0;32m    400\u001b[0m \u001b[39mself\u001b[39m\u001b[39m.\u001b[39massign_ranks_to_population()\n\u001b[0;32m    401\u001b[0m \u001b[39mself\u001b[39m\u001b[39m.\u001b[39mupdate_logs()\n\u001b[1;32m--> 405\u001b[0m \u001b[39mself\u001b[39;49m\u001b[39m.\u001b[39;49mnext_iteration()\n",
      "File \u001b[1;32mc:\\Users\\imigs\\Desktop\\GA HMM\\ga\\numba_ga.py:388\u001b[0m, in \u001b[0;36mGaHMM.next_iteration\u001b[1;34m(self)\u001b[0m\n\u001b[0;32m    386\u001b[0m \u001b[39mself\u001b[39m\u001b[39m.\u001b[39msort_population()\n\u001b[0;32m    387\u001b[0m \u001b[39mself\u001b[39m\u001b[39m.\u001b[39massign_ranks_to_population()\n\u001b[1;32m--> 388\u001b[0m \u001b[39mself\u001b[39;49m\u001b[39m.\u001b[39;49mupdate_logs()\n\u001b[0;32m    390\u001b[0m \u001b[39m# self.current_generation should be equal to the number of \u001b[39;00m\n\u001b[0;32m    391\u001b[0m \u001b[39mself\u001b[39m\u001b[39m.\u001b[39mcurrent_generation \u001b[39m+\u001b[39m\u001b[39m=\u001b[39m \u001b[39m1\u001b[39m\n",
      "File \u001b[1;32mc:\\Users\\imigs\\Desktop\\GA HMM\\ga\\numba_ga.py:277\u001b[0m, in \u001b[0;36mGaHMM.update_logs\u001b[1;34m(self)\u001b[0m\n\u001b[0;32m    274\u001b[0m \u001b[39mdef\u001b[39;00m \u001b[39mupdate_logs\u001b[39m(\u001b[39mself\u001b[39m):\n\u001b[0;32m    276\u001b[0m     fitness_values \u001b[39m=\u001b[39m \u001b[39mself\u001b[39m\u001b[39m.\u001b[39mpopulation[:, \u001b[39mself\u001b[39m\u001b[39m.\u001b[39mslices\u001b[39m.\u001b[39mfitness\u001b[39m.\u001b[39mstart]\n\u001b[1;32m--> 277\u001b[0m     \u001b[39mself\u001b[39;49m\u001b[39m.\u001b[39;49mlogs[:, \u001b[39mself\u001b[39;49m\u001b[39m.\u001b[39;49mcurrent_generation] \u001b[39m=\u001b[39m fitness_values\n",
      "\u001b[1;31mIndexError\u001b[0m: index 21 is out of bounds for axis 1 with size 21"
     ]
    }
   ],
   "source": [
    "gabw = GaHMM(\n",
    "    n_symbols=n_symbols,\n",
    "    n_states=n_states,\n",
    "    population_size=n_hmms,\n",
    "    n_generations=10\n",
    ")\n",
    "gabw.fitness_func = fitness.mean_log_prob_fitness(observations)\n",
    "gabw.mutation_func = mutation.constant_uniform_mutation_factory(mutation_threshold=0.001)\n",
    "# gabw.mutation_func = mutation.dynamic_uniform_mutation_factory(0.001, beta=1)\n",
    "gabw.crossover_func = crossover.rank_weighted(crossover.uniform_crossover)\n",
    "gabw.parent_select_func = selection.rank_selection_factory(gabw.population_size)\n",
    "gabw.train_population_with_baum_welch(observations, 10)\n",
    "gabw.start()\n",
    "gabw.plot()"
   ]
  },
  {
   "cell_type": "code",
   "execution_count": null,
   "metadata": {},
   "outputs": [],
   "source": [
    "\n",
    "\n",
    "all_hmm_params = [random_left_right_hmm_params(n_states, n_symbols) for i in range(n_hmms)]\n",
    "log_probability_of_hmm_after_iteration = np.empty((n_hmms, n_iterations))\n",
    "\n",
    "\n",
    "for i in range(len(all_hmm_params)):\n",
    "    hmm_params = all_hmm_params[i]\n",
    "    reestimated_hmm_params, log_probaility_after_iteration = bw.train_multiple_observations(hmm_params, observations, n_iterations)\n",
    "    log_probability_of_hmm_after_iteration[i, :] = log_probaility_after_iteration"
   ]
  },
  {
   "cell_type": "code",
   "execution_count": null,
   "metadata": {},
   "outputs": [],
   "source": [
    "gabw_after_bw = GaHMM(\n",
    "    n_symbols=n_symbols,\n",
    "    n_states=n_states,\n",
    "    population_size=n_hmms,\n",
    "    n_generations=(n_iterations-10)\n",
    ")\n",
    "gabw_after_bw.fitness_func = fitness.numba_mean_log_prob_fitness(observations)\n",
    "gabw_after_bw.mutation_func = mutation.numba_constant_uniform_mutation2(mutation_threshold=0.001)\n",
    "gabw_after_bw.crossover_func = crossover.rank_weighted(crossover.uniform_crossover)\n",
    "gabw_after_bw.parent_select_func = selection.rank_selection_factory(gabw_after_bw.population_size)\n",
    "# gabw.train_population_with_baum_welch(observations, 1)\n",
    "gabw_after_bw.train_population_with_baum_welch(observations, n_iterations=10)\n",
    "gabw_after_bw.start()"
   ]
  },
  {
   "cell_type": "code",
   "execution_count": null,
   "metadata": {},
   "outputs": [],
   "source": [
    "gabw_before_bw = GaHMM(\n",
    "    n_symbols=n_symbols,\n",
    "    n_states=n_states,\n",
    "    population_size=n_hmms,\n",
    "    n_generations=200\n",
    ")\n",
    "gabw_before_bw.fitness_func = fitness.numba_mean_log_prob_fitness(observations)\n",
    "gabw_before_bw.mutation_func = mutation.numba_constant_uniform_mutation2(mutation_threshold=0.75)\n",
    "gabw_before_bw.crossover_func = crossover.rank_weighted(crossover.uniform_crossover)\n",
    "gabw_before_bw.parent_select_func = selection.rank_selection_factory(gabw_before_bw.population_size)\n",
    "# gabw.train_population_with_baum_welch(observations, 1)\n",
    "gabw_before_bw.start()\n",
    "# gabw_before_bw.train_population_with_baum_welch(observations, n_iterations=10)\n",
    "gabw_before_bw.plot()"
   ]
  },
  {
   "cell_type": "code",
   "execution_count": null,
   "metadata": {},
   "outputs": [],
   "source": [
    "gabw.population[0]"
   ]
  },
  {
   "cell_type": "code",
   "execution_count": null,
   "metadata": {},
   "outputs": [],
   "source": [
    "sns.lineplot(data=log_probability_of_hmm_after_iteration.T / n_samples)"
   ]
  },
  {
   "cell_type": "code",
   "execution_count": null,
   "metadata": {},
   "outputs": [],
   "source": [
    "gabw.plot()"
   ]
  },
  {
   "cell_type": "code",
   "execution_count": null,
   "metadata": {},
   "outputs": [],
   "source": [
    "\n",
    "gabw_after_bw.plot()"
   ]
  },
  {
   "cell_type": "code",
   "execution_count": null,
   "metadata": {},
   "outputs": [],
   "source": [
    "gabw_before_bw.plot()"
   ]
  }
 ],
 "metadata": {
  "kernelspec": {
   "display_name": "venv",
   "language": "python",
   "name": "python3"
  },
  "language_info": {
   "codemirror_mode": {
    "name": "ipython",
    "version": 3
   },
   "file_extension": ".py",
   "mimetype": "text/x-python",
   "name": "python",
   "nbconvert_exporter": "python",
   "pygments_lexer": "ipython3",
   "version": "3.10.8"
  },
  "orig_nbformat": 4,
  "vscode": {
   "interpreter": {
    "hash": "b23e814baf2fee96f2368e6a72b1238693681cf45c84ea9e07cfce4cf6e84dc1"
   }
  }
 },
 "nbformat": 4,
 "nbformat_minor": 2
}
