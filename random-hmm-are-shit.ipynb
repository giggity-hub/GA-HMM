{
 "cells": [
  {
   "cell_type": "code",
   "execution_count": null,
   "metadata": {},
   "outputs": [],
   "source": [
    "# create random hmm\n",
    "# create bunch of samples from that hmm\n",
    "\n",
    "# create bunch of other random hmms\n",
    "# for every hmm for every sample \n",
    "# calculate the acceptance difference"
   ]
  }
 ],
 "metadata": {
  "kernelspec": {
   "display_name": "Python 3.10.8 ('venv': venv)",
   "language": "python",
   "name": "python3"
  },
  "language_info": {
   "name": "python",
   "version": "3.10.8"
  },
  "orig_nbformat": 4,
  "vscode": {
   "interpreter": {
    "hash": "b23e814baf2fee96f2368e6a72b1238693681cf45c84ea9e07cfce4cf6e84dc1"
   }
  }
 },
 "nbformat": 4,
 "nbformat_minor": 2
}
