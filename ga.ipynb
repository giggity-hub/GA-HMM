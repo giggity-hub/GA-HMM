{
 "cells": [
  {
   "cell_type": "code",
   "execution_count": 1,
   "metadata": {},
   "outputs": [],
   "source": [
    "%load_ext autoreload\n",
    "%autoreload 2\n",
    "from lib.utils import rand_stochastic_matrix, rand_stochastic_vector\n",
    "import numpy.random as npr\n",
    "from hmm.bw import BaumWelch\n",
    "import numpy\n",
    "from pomegranate import HiddenMarkovModel, DiscreteDistribution\n",
    "from hmm.hmm import get_discrete_hmm_params"
   ]
  },
  {
   "cell_type": "code",
   "execution_count": 7,
   "metadata": {},
   "outputs": [
    {
     "name": "stdout",
     "output_type": "stream",
     "text": [
      "-9.419410306844217\n",
      "[0.32613833 0.63973952 0.03412215]\n"
     ]
    }
   ],
   "source": [
    "n_states = 3\n",
    "n_symbols = 5\n",
    "\n",
    "pi = rand_stochastic_vector(n_states)\n",
    "b = rand_stochastic_matrix(n_states, n_symbols)\n",
    "a = rand_stochastic_matrix(n_states, n_states)\n",
    "\n",
    "# print(pi)\n",
    "\n",
    "\n",
    "\n",
    "\n",
    "# Create Models\n",
    "alphabet = [i for i in range(n_symbols)]\n",
    "dists = [DiscreteDistribution(dict(zip(alphabet, b[i]))) for i in range(n_states)]\n",
    "model2 = HiddenMarkovModel.from_matrix(a, dists, pi)\n",
    "\n",
    "model1 = BaumWelch(pi[:], b[:, :], a[:, :])\n",
    "\n",
    "\n",
    "\n",
    "\n",
    "\n",
    "\n",
    "\n",
    "\n",
    "T = 5\n",
    "O = npr.randint(low=0, high=n_symbols,  size=T)\n",
    "\n",
    "l = model1.reestimate(O)\n",
    "print(l)\n",
    "print(model1.pi)\n",
    "# compare_backwards(model1, model2, O)\n",
    "# compare_forward(model1, model2, O)\n",
    "\n",
    "\n",
    "\n",
    "\n",
    "\n",
    "\n",
    "# pi1 = model1.pi \n",
    "# b1 = model1.b\n",
    "# a1 = model1.a\n",
    "\n",
    "# model2.fit([O], max_iterations=1)\n",
    "# p2 = model2.log_probability(O)\n",
    "\n",
    "\n",
    "# print(pi)\n",
    "# print(pi1)\n",
    "# print(pi2)"
   ]
  }
 ],
 "metadata": {
  "kernelspec": {
   "display_name": "ga_hmm",
   "language": "python",
   "name": "ga_hmm"
  },
  "language_info": {
   "codemirror_mode": {
    "name": "ipython",
    "version": 3
   },
   "file_extension": ".py",
   "mimetype": "text/x-python",
   "name": "python",
   "nbconvert_exporter": "python",
   "pygments_lexer": "ipython3",
   "version": "3.10.8"
  },
  "orig_nbformat": 4,
  "vscode": {
   "interpreter": {
    "hash": "86f440ce47a61c377a728eae3dccb8b2de427aff4d1fc371d180edea3382aa4a"
   }
  }
 },
 "nbformat": 4,
 "nbformat_minor": 2
}
