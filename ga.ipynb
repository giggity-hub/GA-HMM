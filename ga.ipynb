{
 "cells": [
  {
   "cell_type": "code",
   "execution_count": 19,
   "metadata": {},
   "outputs": [
    {
     "name": "stdout",
     "output_type": "stream",
     "text": [
      "The autoreload extension is already loaded. To reload it, use:\n",
      "  %reload_ext autoreload\n"
     ]
    }
   ],
   "source": [
    "%load_ext autoreload\n",
    "%autoreload 2\n",
    "from classification.classifier import Classifier\n",
    "from ga.ga import GeneticAlgorithm, Individual\n",
    "from ga.fitness import log_prob_fitness\n",
    "from hmm.hmm import random_left_right_hmm_params\n",
    "from data.digits import load_dataset\n",
    "from ga.crossover import mean_crossover, single_point_crossover\n",
    "from ga.mutation import constant_uniform_mutation\n",
    "from ga.selection import pairwise_fittest\n",
    "import pprint\n",
    "import numpy\n",
    "from ga.ga import hmm2genes\n",
    "import matplotlib as mpl\n",
    "import matplotlib.pyplot as plt"
   ]
  },
  {
   "cell_type": "code",
   "execution_count": 21,
   "metadata": {},
   "outputs": [
    {
     "name": "stdout",
     "output_type": "stream",
     "text": [
      "[<ga.ga.Individual object at 0x000001A669900D90>, <ga.ga.Individual object at 0x000001A669903010>, <ga.ga.Individual object at 0x000001A669542B30>, <ga.ga.Individual object at 0x000001A666187610>, <ga.ga.Individual object at 0x000001A6683376A0>, <ga.ga.Individual object at 0x000001A668334520>, <ga.ga.Individual object at 0x000001A668337580>, <ga.ga.Individual object at 0x000001A666187E50>, <ga.ga.Individual object at 0x000001A668337430>, <ga.ga.Individual object at 0x000001A6699022C0>, <ga.ga.Individual object at 0x000001A668337760>, <ga.ga.Individual object at 0x000001A668337880>, <ga.ga.Individual object at 0x000001A668336B90>, <ga.ga.Individual object at 0x000001A668335F90>, <ga.ga.Individual object at 0x000001A669902FB0>, <ga.ga.Individual object at 0x000001A666187C10>, <ga.ga.Individual object at 0x000001A669903B80>, <ga.ga.Individual object at 0x000001A6699015D0>, <ga.ga.Individual object at 0x000001A669902BF0>, <ga.ga.Individual object at 0x000001A669542710>]\n"
     ]
    },
    {
     "data": {
      "image/png": "[encoded data removed]",
      "text/plain": [
       "<Figure size 640x480 with 1 Axes>"
      ]
     },
     "metadata": {},
     "output_type": "display_data"
    }
   ],
   "source": [
    "training_data = load_dataset(dataset='train')\n",
    "n_samples = 12\n",
    "n_generations=200\n",
    "n_states=4\n",
    "n_symbols = 128\n",
    "alphabet = [i for i in range(128)]\n",
    "pop_size = 20\n",
    "\n",
    "Individual.initialize_class(n_states=n_states,n_symbols=n_symbols)\n",
    "\n",
    "def train_for_n_gen(individuals, samples, n_generations: int):\n",
    "    for i in range(len(individuals)):\n",
    "        individual = individuals[i]\n",
    "        hmm = individual.to_hmm()\n",
    "        improved_hmm = hmm.fit(sequences=samples, max_iterations=n_generations)\n",
    "        individuals[i] = hmm2genes(improved_hmm)\n",
    "    return individuals\n",
    "\n",
    "\n",
    "distances_global = []\n",
    "def calc_distance_callback(ga: GeneticAlgorithm):\n",
    "    distances = []\n",
    "    for i in range(ga.population_size-1):\n",
    "        for j in range(i+1, ga.population_size):\n",
    "            a = ga.population[i].genes\n",
    "            b = ga.population[j].genes\n",
    "\n",
    "            dist = numpy.linalg.norm(a - b)\n",
    "            distances.append(dist)\n",
    "\n",
    "    avg_distance = sum(distances)/len(distances) \n",
    "    distances_global.append(avg_distance)\n",
    "\n",
    "\n",
    "\n",
    "\n",
    "\n",
    "\n",
    "mutation_func = constant_uniform_mutation(0.5, 0.5)\n",
    "\n",
    "\n",
    "for digit in range(1):\n",
    "    samples = training_data[digit][:n_samples]\n",
    "    fitness_func = log_prob_fitness(samples)\n",
    "    initial_population=[Individual() for i in range(pop_size)]\n",
    "\n",
    "    initial_population = train_for_n_gen(initial_population, samples, 1)\n",
    "    print(initial_population)\n",
    "\n",
    "\n",
    "    ga = GeneticAlgorithm(\n",
    "        initial_population=initial_population,\n",
    "        n_generations=n_generations,\n",
    "        fitness_func=fitness_func,\n",
    "        crossover_func=single_point_crossover,\n",
    "        mutation_func=mutation_func,\n",
    "        parent_select_func=pairwise_fittest,\n",
    "        callbacks=[])\n",
    "\n",
    "    ga.start()\n",
    "    ga.plot()\n",
    "\n",
    "    # plot the distances\n",
    "    # x = range(ga.n_generations)\n",
    "    # plt.plot(x, distances_global, label='distance')\n",
    "\n",
    "    # plt.legend()\n",
    "    # plt.show()\n",
    "\n",
    "\n",
    "\n",
    "\n",
    "\n",
    "\n",
    "\n",
    "# print(sum([hmm.log_probability(sample) for sample in samples]) / n_samples)\n",
    "# better_hmm, history = hmm.fit(sequences=samples, return_history=True, max_iterations=1)\n",
    "\n",
    "# # print([p/n_samples for p in history.log_probabilities])\n",
    "# print(history.improvements)\n",
    "\n",
    "\n",
    "#     # train lots of hidden markov models with baum-welch\n",
    "#     return their histories\n",
    "\n",
    "#     def train_multiple_bw(initial_population, samples, n_iterations):\n",
    "#         hmms = [individual.to_hmm() for individual in initial_population]\n",
    "#         histories = []\n",
    "#         for hmm in hmms:\n",
    "#             improved_hmm, history = hmm.fit(samples)\n",
    "#             histories.append(history)\n",
    "\n",
    "\n",
    "# states [{distribution.parameters}]\n",
    "\n",
    "\n",
    "\n",
    "\n",
    "\n"
   ]
  },
  {
   "cell_type": "code",
   "execution_count": null,
   "metadata": {},
   "outputs": [],
   "source": []
  },
  {
   "cell_type": "code",
   "execution_count": null,
   "metadata": {},
   "outputs": [],
   "source": []
  },
  {
   "cell_type": "code",
   "execution_count": null,
   "metadata": {},
   "outputs": [],
   "source": [
    "training_data = load_dataset(dataset='train')\n",
    "n_samples = 12\n",
    "n_generations=10\n",
    "n_states=4\n",
    "alphabet = [i for i in range(128)]\n",
    "pop_size = 10\n",
    "\n",
    "new_individual= individual_factory(\n",
    "    n_states=n_states,\n",
    "    alphabet=alphabet,\n",
    "    hmm_param_generator= random_left_right_hmm_params\n",
    ")\n",
    "\n",
    "\n",
    "mutation_func = constant_uniform_mutation(0.1, 0.5)\n",
    "\n",
    "\n",
    "for digit in range(1):\n",
    "    samples = training_data[digit][:n_samples]\n",
    "    fitness_func = log_prob_fitness(samples)\n",
    "    initial_population=[new_individual() for i in range(pop_size)]\n",
    "\n",
    "    ga = GeneticAlgorithm(\n",
    "        initial_population=initial_population,\n",
    "        n_generations=n_generations,\n",
    "        fitness_func=fitness_func,\n",
    "        crossover_func=mean_crossover,\n",
    "        mutation_func=mutation_func,\n",
    "        parent_select_func=pairwise_fittest)\n",
    "\n",
    "    ga.start()\n",
    "    ga.plot()\n",
    "    "
   ]
  },
  {
   "cell_type": "code",
   "execution_count": null,
   "metadata": {},
   "outputs": [],
   "source": []
  },
  {
   "cell_type": "code",
   "execution_count": null,
   "metadata": {},
   "outputs": [],
   "source": [
    "\n",
    "\n",
    "initial_population\n",
    "\n",
    "# Every category needs its own genetic algorithm\n",
    "# Die Fitness Function ist für alle Buckets ja unterschiedlich :(((())))\n",
    "# genetic algorithms\n",
    "for i in range(10):\n",
    "    # fitness_func = fixed_sample_fitness_func(samples=)\n",
    "\n",
    "# generate Genetic Algorithm"
   ]
  },
  {
   "cell_type": "code",
   "execution_count": null,
   "metadata": {},
   "outputs": [],
   "source": []
  }
 ],
 "metadata": {
  "kernelspec": {
   "display_name": "ga_hmm",
   "language": "python",
   "name": "ga_hmm"
  },
  "language_info": {
   "codemirror_mode": {
    "name": "ipython",
    "version": 3
   },
   "file_extension": ".py",
   "mimetype": "text/x-python",
   "name": "python",
   "nbconvert_exporter": "python",
   "pygments_lexer": "ipython3",
   "version": "3.10.8"
  },
  "orig_nbformat": 4,
  "vscode": {
   "interpreter": {
    "hash": "b23e814baf2fee96f2368e6a72b1238693681cf45c84ea9e07cfce4cf6e84dc1"
   }
  }
 },
 "nbformat": 4,
 "nbformat_minor": 2
}
