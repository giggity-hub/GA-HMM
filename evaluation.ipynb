{
 "cells": [
  {
   "cell_type": "code",
   "execution_count": null,
   "metadata": {},
   "outputs": [],
   "source": [
    "from hmm.bw import train_multiple_observations\n",
    "from data.digits import DigitDataset\n",
    "\n",
    "hmm_params = random_left_right_hmm_params(n_states=4, n_symbols=128)\n",
    "train_data = DigitDataset(dataset='train')\n",
    "observations = train_data.get_first_n_observations(0, 10)\n",
    "reestimated_params, trace = train_multiple_observations(hmm_params, observations, n_iterations=10)"
   ]
  },
  {
   "cell_type": "code",
   "execution_count": null,
   "metadata": {},
   "outputs": [],
   "source": [
    "reestimated_params.emission_matrix"
   ]
  },
  {
   "cell_type": "code",
   "execution_count": 1,
   "metadata": {},
   "outputs": [
    {
     "ename": "ImportError",
     "evalue": "cannot import name 'random_left_right_hmm_params' from 'hmm.hmm' (c:\\Users\\imigs\\Desktop\\GA HMM\\hmm\\hmm.py)",
     "output_type": "error",
     "traceback": [
      "\u001b[1;31m---------------------------------------------------------------------------\u001b[0m",
      "\u001b[1;31mImportError\u001b[0m                               Traceback (most recent call last)",
      "Cell \u001b[1;32mIn[1], line 4\u001b[0m\n\u001b[0;32m      1\u001b[0m get_ipython()\u001b[39m.\u001b[39mrun_line_magic(\u001b[39m'\u001b[39m\u001b[39mload_ext\u001b[39m\u001b[39m'\u001b[39m, \u001b[39m'\u001b[39m\u001b[39mautoreload\u001b[39m\u001b[39m'\u001b[39m)\n\u001b[0;32m      2\u001b[0m get_ipython()\u001b[39m.\u001b[39mrun_line_magic(\u001b[39m'\u001b[39m\u001b[39mautoreload\u001b[39m\u001b[39m'\u001b[39m, \u001b[39m'\u001b[39m\u001b[39m2\u001b[39m\u001b[39m'\u001b[39m)\n\u001b[1;32m----> 4\u001b[0m \u001b[39mfrom\u001b[39;00m \u001b[39mhmm\u001b[39;00m\u001b[39m.\u001b[39;00m\u001b[39mhmm\u001b[39;00m \u001b[39mimport\u001b[39;00m random_left_right_hmm_params\n\u001b[0;32m      5\u001b[0m \u001b[39mimport\u001b[39;00m \u001b[39mnumpy\u001b[39;00m \u001b[39mas\u001b[39;00m \u001b[39mnp\u001b[39;00m\n\u001b[0;32m      6\u001b[0m \u001b[39mimport\u001b[39;00m \u001b[39mhmm\u001b[39;00m\u001b[39m.\u001b[39;00m\u001b[39mbw\u001b[39;00m \u001b[39mas\u001b[39;00m \u001b[39mbw\u001b[39;00m\n",
      "\u001b[1;31mImportError\u001b[0m: cannot import name 'random_left_right_hmm_params' from 'hmm.hmm' (c:\\Users\\imigs\\Desktop\\GA HMM\\hmm\\hmm.py)"
     ]
    }
   ],
   "source": [
    "%load_ext autoreload\n",
    "%autoreload 2\n",
    "\n",
    "from hmm.hmm import random_left_right_hmm_params\n",
    "import numpy as np\n",
    "import hmm.bw as bw\n",
    "from data.digits import DigitDataset\n",
    "import matplotlib.pyplot as plt\n",
    "import seaborn as sns\n",
    "from ga.numba_ga import GaHMM\n",
    "\n",
    "import ga.fitness as fitness\n",
    "import ga.mutation as mutation\n",
    "import ga.selection as selection\n",
    "import ga.crossover as crossover\n"
   ]
  },
  {
   "attachments": {},
   "cell_type": "markdown",
   "metadata": {},
   "source": [
    "#### Drawing n random HMMs and then optimizing them for k steps"
   ]
  },
  {
   "cell_type": "code",
   "execution_count": null,
   "metadata": {},
   "outputs": [],
   "source": [
    "training_data = DigitDataset('train')\n",
    "n_samples = 10\n",
    "observations = training_data.get_first_n_observations(category=0, n_observations=n_samples)\n",
    "\n",
    "n_hmms = 50\n",
    "n_iterations = 2000\n",
    "\n",
    "n_states = 4\n",
    "n_symbols = 128\n",
    "\n",
    "# gabw.population"
   ]
  },
  {
   "cell_type": "code",
   "execution_count": null,
   "metadata": {},
   "outputs": [],
   "source": [
    "gabw = GaHMM(\n",
    "    n_symbols=n_symbols,\n",
    "    n_states=n_states,\n",
    "    population_size=n_hmms,\n",
    "    n_generations=10\n",
    ")\n",
    "gabw.fitness_func = fitness.mean_log_prob_fitness(observations)\n",
    "gabw.mutation_func = mutation.constant_uniform_mutation_factory(mutation_threshold=0.001)\n",
    "# gabw.mutation_func = mutation.dynamic_uniform_mutation_factory(0.001, beta=1)\n",
    "gabw.crossover_func = crossover.rank_weighted(crossover.uniform_crossover)\n",
    "gabw.parent_select_func = selection.rank_selection_factory(gabw.population_size)\n",
    "gabw.train_population_with_baum_welch(observations, 10)\n",
    "gabw.start()\n",
    "gabw.plot()"
   ]
  },
  {
   "cell_type": "code",
   "execution_count": null,
   "metadata": {},
   "outputs": [],
   "source": [
    "\n",
    "\n",
    "all_hmm_params = [random_left_right_hmm_params(n_states, n_symbols) for i in range(n_hmms)]\n",
    "log_probability_of_hmm_after_iteration = np.empty((n_hmms, n_iterations))\n",
    "\n",
    "\n",
    "for i in range(len(all_hmm_params)):\n",
    "    hmm_params = all_hmm_params[i]\n",
    "    reestimated_hmm_params, log_probaility_after_iteration = bw.train_multiple_observations(hmm_params, observations, n_iterations)\n",
    "    log_probability_of_hmm_after_iteration[i, :] = log_probaility_after_iteration"
   ]
  },
  {
   "cell_type": "code",
   "execution_count": null,
   "metadata": {},
   "outputs": [],
   "source": [
    "gabw_after_bw = GaHMM(\n",
    "    n_symbols=n_symbols,\n",
    "    n_states=n_states,\n",
    "    population_size=n_hmms,\n",
    "    n_generations=(n_iterations-10)\n",
    ")\n",
    "gabw_after_bw.fitness_func = fitness.numba_mean_log_prob_fitness(observations)\n",
    "gabw_after_bw.mutation_func = mutation.numba_constant_uniform_mutation2(mutation_threshold=0.001)\n",
    "gabw_after_bw.crossover_func = crossover.rank_weighted(crossover.uniform_crossover)\n",
    "gabw_after_bw.parent_select_func = selection.rank_selection_factory(gabw_after_bw.population_size)\n",
    "# gabw.train_population_with_baum_welch(observations, 1)\n",
    "gabw_after_bw.train_population_with_baum_welch(observations, n_iterations=10)\n",
    "gabw_after_bw.start()"
   ]
  },
  {
   "cell_type": "code",
   "execution_count": null,
   "metadata": {},
   "outputs": [],
   "source": [
    "gabw_before_bw = GaHMM(\n",
    "    n_symbols=n_symbols,\n",
    "    n_states=n_states,\n",
    "    population_size=n_hmms,\n",
    "    n_generations=200\n",
    ")\n",
    "gabw_before_bw.fitness_func = fitness.numba_mean_log_prob_fitness(observations)\n",
    "gabw_before_bw.mutation_func = mutation.numba_constant_uniform_mutation2(mutation_threshold=0.75)\n",
    "gabw_before_bw.crossover_func = crossover.rank_weighted(crossover.uniform_crossover)\n",
    "gabw_before_bw.parent_select_func = selection.rank_selection_factory(gabw_before_bw.population_size)\n",
    "# gabw.train_population_with_baum_welch(observations, 1)\n",
    "gabw_before_bw.start()\n",
    "# gabw_before_bw.train_population_with_baum_welch(observations, n_iterations=10)\n",
    "gabw_before_bw.plot()"
   ]
  },
  {
   "cell_type": "code",
   "execution_count": null,
   "metadata": {},
   "outputs": [],
   "source": [
    "gabw.population[0]"
   ]
  },
  {
   "cell_type": "code",
   "execution_count": null,
   "metadata": {},
   "outputs": [],
   "source": [
    "sns.lineplot(data=log_probability_of_hmm_after_iteration.T / n_samples)"
   ]
  },
  {
   "cell_type": "code",
   "execution_count": null,
   "metadata": {},
   "outputs": [],
   "source": [
    "gabw.plot()"
   ]
  },
  {
   "cell_type": "code",
   "execution_count": null,
   "metadata": {},
   "outputs": [],
   "source": [
    "\n",
    "gabw_after_bw.plot()"
   ]
  },
  {
   "cell_type": "code",
   "execution_count": null,
   "metadata": {},
   "outputs": [],
   "source": [
    "gabw_before_bw.plot()"
   ]
  }
 ],
 "metadata": {
  "kernelspec": {
   "display_name": "venv",
   "language": "python",
   "name": "python3"
  },
  "language_info": {
   "codemirror_mode": {
    "name": "ipython",
    "version": 3
   },
   "file_extension": ".py",
   "mimetype": "text/x-python",
   "name": "python",
   "nbconvert_exporter": "python",
   "pygments_lexer": "ipython3",
   "version": "3.10.8 (tags/v3.10.8:aaaf517, Oct 11 2022, 16:50:30) [MSC v.1933 64 bit (AMD64)]"
  },
  "orig_nbformat": 4,
  "vscode": {
   "interpreter": {
    "hash": "b23e814baf2fee96f2368e6a72b1238693681cf45c84ea9e07cfce4cf6e84dc1"
   }
  }
 },
 "nbformat": 4,
 "nbformat_minor": 2
}
