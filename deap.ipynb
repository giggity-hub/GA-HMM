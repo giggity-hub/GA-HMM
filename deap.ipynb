{
 "cells": [
  {
   "cell_type": "code",
   "execution_count": 1,
   "metadata": {},
   "outputs": [],
   "source": [
    "from ga.ga import Individual, GeneticAlgorithm\n",
    "from ga.mutation import mutate_one_gene, mutate_one_bit\n",
    "import numpy\n",
    "from lib.utils import rand_stochastic_vector\n",
    "\n"
   ]
  },
  {
   "cell_type": "code",
   "execution_count": 11,
   "metadata": {},
   "outputs": [
    {
     "name": "stdout",
     "output_type": "stream",
     "text": [
      "generation 0 of 20\n",
      "generation 1 of 20\n",
      "generation 2 of 20\n",
      "generation 3 of 20\n",
      "generation 4 of 20\n",
      "generation 5 of 20\n",
      "generation 6 of 20\n",
      "generation 7 of 20\n",
      "generation 8 of 20\n",
      "generation 9 of 20\n",
      "generation 10 of 20\n",
      "generation 11 of 20\n",
      "generation 12 of 20\n",
      "generation 13 of 20\n",
      "generation 14 of 20\n",
      "generation 15 of 20\n",
      "generation 16 of 20\n",
      "generation 17 of 20\n",
      "generation 18 of 20\n",
      "generation 19 of 20\n",
      "[-108.849842527996, -107.85246052091621, -107.85246052091621, -107.85246052091621, -107.85246052091621, -107.32199281238147, -107.32199281238147, -105.60892930268648, -105.60892930268648, -105.60892930268648, -105.60892930268648, -105.60892930268648, -105.60892930268648, -105.60892930268648, -105.60892930268648, -105.60892930268648, -105.60892930268648, -105.60892930268648, -105.60892930268648, -105.60892930268648]\n"
     ]
    },
    {
     "data": {
      "image/png": "[encoded data removed]",
      "text/plain": [
       "<Figure size 640x480 with 1 Axes>"
      ]
     },
     "metadata": {},
     "output_type": "display_data"
    }
   ],
   "source": [
    "alphabet = list('abcdefghi')\n",
    "n_states = 6\n",
    "population_size = 10\n",
    "n_generations = 20\n",
    "\n",
    "\n",
    "initial_population = [Individual(n_states, alphabet) for i in range(population_size)]\n",
    "\n",
    "\n",
    "parent = Individual(n_states, alphabet)\n",
    "parent_hmm = parent.to_hmm()\n",
    "# print(parent_hmm)\n",
    "n_samples, len_samples = 1, 50\n",
    "samples = parent_hmm.sample(n_samples, len_samples)\n",
    "\n",
    "def fitness_func(individual, ga_instance):\n",
    "    # Wichtig!!! Da keine end_states spezifiziert wurden MUSS der zweite Parameter gesetzt werden. Sonst endlos loop\n",
    "    \n",
    "\n",
    "    child_hmm = individual.to_hmm()\n",
    "\n",
    "    total_score = [child_hmm.log_probability(sample) for sample in samples]\n",
    "    mean_score = sum(total_score)/len(samples)\n",
    "    return mean_score\n",
    "\n",
    "\n",
    "def parent_selection_func(population, parent_count, ga_instance):\n",
    "    parents = []\n",
    "\n",
    "    for i in range(parent_count):\n",
    "        parent_1 = population[i % len(population)]\n",
    "        parent_2 = population[(i+1) % len(population)]\n",
    "        parents.append([parent_1, parent_2])\n",
    "\n",
    "    return parents\n",
    "\n",
    "\n",
    "    # select every element\n",
    "    # do one random mudadjion\n",
    "\n",
    "    # exchange one gene for a random gene\n",
    "\n",
    "def crossover_func(parents, ga_instance):\n",
    "    parent_1, parent_2 = parents \n",
    "\n",
    "    random_split_point = numpy.random\n",
    "\n",
    "    random_split_point = numpy.random.choice(range(len(parent_1.genes)))\n",
    "\n",
    "    child_genes = parent_1.genes[:random_split_point] + parent_2.genes[random_split_point:]\n",
    "    return Individual(n_states, alphabet, child_genes)\n",
    "\n",
    "\n",
    "mutation_func = mutate_one_gene\n",
    "    # während noch nicht genug parents selected wurden\n",
    "\n",
    "ga = GeneticAlgorithm(\n",
    "    initial_population=initial_population,\n",
    "    n_generations=n_generations,\n",
    "    fitness_func=fitness_func,\n",
    "    parent_select_func=parent_selection_func,\n",
    "    crossover_func=crossover_func,\n",
    "    mutation_func=mutation_func\n",
    ")\n",
    "res = ga.start()\n",
    "ga.plot()\n",
    "# print(res)\n",
    "\n",
    "# Individual\n",
    "# - genes\n",
    "# genes = [[...n], [...n], [...n], [...n]]\n",
    "# start_probs = genes[0]\n",
    "# transition_probs = genes[1:n]\n",
    "# emission_probs = genes[n+1:]\n",
    "# hmm_from_individual = \n",
    "# \n",
    "\n",
    "# genetic_algorithm\n",
    "# - initial population\n",
    "# - fitness function\n",
    "# - mutation function\n",
    "# def mutation_function(individual, ga_instance)\n",
    "\n",
    "# - parent selection function\n",
    "\n",
    "# def parent_selection(population, ga_instance)\n",
    "\n",
    "\n",
    "# for i in range()"
   ]
  }
 ],
 "metadata": {
  "kernelspec": {
   "display_name": "Python 3.10.8 ('venv': venv)",
   "language": "python",
   "name": "python3"
  },
  "language_info": {
   "codemirror_mode": {
    "name": "ipython",
    "version": 3
   },
   "file_extension": ".py",
   "mimetype": "text/x-python",
   "name": "python",
   "nbconvert_exporter": "python",
   "pygments_lexer": "ipython3",
   "version": "3.10.8"
  },
  "orig_nbformat": 4,
  "vscode": {
   "interpreter": {
    "hash": "b23e814baf2fee96f2368e6a72b1238693681cf45c84ea9e07cfce4cf6e84dc1"
   }
  }
 },
 "nbformat": 4,
 "nbformat_minor": 2
}
