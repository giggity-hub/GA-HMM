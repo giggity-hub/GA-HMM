{
 "cells": [
  {
   "cell_type": "code",
   "execution_count": 7,
   "metadata": {},
   "outputs": [
    {
     "data": {
      "text/plain": [
       "array([[[0.71918655],\n",
       "        [0.68293826],\n",
       "        [0.70746022]],\n",
       "\n",
       "       [[0.60536502],\n",
       "        [0.8676664 ],\n",
       "        [0.09831763]],\n",
       "\n",
       "       [[0.52132793],\n",
       "        [1.        ],\n",
       "        [0.33821533]]])"
      ]
     },
     "execution_count": 7,
     "metadata": {},
     "output_type": "execute_result"
    }
   ],
   "source": [
    "import xarray as xr\n",
    "import numpy\n",
    "\n",
    "moped = xr.DataArray(\n",
    "    data=numpy.random.rand(20, 10, 1000, 50),\n",
    "    dims=['n_states', 'observation_sequence', 'iteration', 'time'])\n",
    "\n",
    "schmoped = xr.DataArray(\n",
    "    data=numpy.random.rand(20, 10, 1000, 1),\n",
    "    dims=['n_states', 'observation_sequence', 'iteration', 'time'])\n",
    "\n",
    "# log-probs\n",
    "# method\n",
    "# n_states\n",
    "# observation_sequence\n",
    "# iteration\n",
    "# time\n",
    "\n",
    "# für random muss der lachs kopiert werden über die dimensions dann funzt die komparrisnnn\n",
    "\n",
    "\n",
    "# dataset = xr.Dataset({\n",
    "#     'log_probabilities': moped,\n",
    "#     'execution_times': schmoped\n",
    "# })\n",
    "\n",
    "x = numpy.random.rand(3,3,1)\n",
    "x[2,1, -1] = 1\n",
    "x"
   ]
  },
  {
   "cell_type": "code",
   "execution_count": 42,
   "id": "0e93448f",
   "metadata": {},
   "outputs": [
    {
     "data": {
      "text/html": [
       "<div>\n",
       "<style scoped>\n",
       "    .dataframe tbody tr th:only-of-type {\n",
       "        vertical-align: middle;\n",
       "    }\n",
       "\n",
       "    .dataframe tbody tr th {\n",
       "        vertical-align: top;\n",
       "    }\n",
       "\n",
       "    .dataframe thead th {\n",
       "        text-align: right;\n",
       "    }\n",
       "</style>\n",
       "<table border=\"1\" class=\"dataframe\">\n",
       "  <thead>\n",
       "    <tr style=\"text-align: right;\">\n",
       "      <th></th>\n",
       "      <th>moped</th>\n",
       "      <th>schmoped</th>\n",
       "    </tr>\n",
       "    <tr>\n",
       "      <th>observation_sequence</th>\n",
       "      <th></th>\n",
       "      <th></th>\n",
       "    </tr>\n",
       "  </thead>\n",
       "  <tbody>\n",
       "    <tr>\n",
       "      <th>0</th>\n",
       "      <td>0.500056</td>\n",
       "      <td>0.502288</td>\n",
       "    </tr>\n",
       "    <tr>\n",
       "      <th>1</th>\n",
       "      <td>0.499145</td>\n",
       "      <td>0.500811</td>\n",
       "    </tr>\n",
       "    <tr>\n",
       "      <th>2</th>\n",
       "      <td>0.501528</td>\n",
       "      <td>0.497086</td>\n",
       "    </tr>\n",
       "    <tr>\n",
       "      <th>3</th>\n",
       "      <td>0.501208</td>\n",
       "      <td>0.501188</td>\n",
       "    </tr>\n",
       "    <tr>\n",
       "      <th>4</th>\n",
       "      <td>0.502120</td>\n",
       "      <td>0.503642</td>\n",
       "    </tr>\n",
       "    <tr>\n",
       "      <th>5</th>\n",
       "      <td>0.497484</td>\n",
       "      <td>0.501504</td>\n",
       "    </tr>\n",
       "    <tr>\n",
       "      <th>6</th>\n",
       "      <td>0.503720</td>\n",
       "      <td>0.500735</td>\n",
       "    </tr>\n",
       "    <tr>\n",
       "      <th>7</th>\n",
       "      <td>0.496758</td>\n",
       "      <td>0.493607</td>\n",
       "    </tr>\n",
       "    <tr>\n",
       "      <th>8</th>\n",
       "      <td>0.500439</td>\n",
       "      <td>0.497576</td>\n",
       "    </tr>\n",
       "    <tr>\n",
       "      <th>9</th>\n",
       "      <td>0.502948</td>\n",
       "      <td>0.498519</td>\n",
       "    </tr>\n",
       "  </tbody>\n",
       "</table>\n",
       "</div>"
      ],
      "text/plain": [
       "                         moped  schmoped\n",
       "observation_sequence                    \n",
       "0                     0.500056  0.502288\n",
       "1                     0.499145  0.500811\n",
       "2                     0.501528  0.497086\n",
       "3                     0.501208  0.501188\n",
       "4                     0.502120  0.503642\n",
       "5                     0.497484  0.501504\n",
       "6                     0.503720  0.500735\n",
       "7                     0.496758  0.493607\n",
       "8                     0.500439  0.497576\n",
       "9                     0.502948  0.498519"
      ]
     },
     "execution_count": 42,
     "metadata": {},
     "output_type": "execute_result"
    }
   ],
   "source": [
    "soos = dataset.isel(time=-1)\n",
    "soos.mean(dim=['n_states', 'iteration']).to_dataframe()"
   ]
  },
  {
   "cell_type": "code",
   "execution_count": null,
   "id": "15ef79ad",
   "metadata": {},
   "outputs": [],
   "source": [
    "# moped.mean(dim=[\"n_states\", \"iteration\"])\n",
    "final_fitness_values = moped.isel(time=-1)\n",
    "mean_by_observation_sequence = final_fitness_values.mean(dim=['n_states', 'iteration'])"
   ]
  },
  {
   "cell_type": "code",
   "execution_count": null,
   "id": "f75b94b6",
   "metadata": {},
   "outputs": [],
   "source": [
    "mean_by_observation_sequence"
   ]
  }
 ],
 "metadata": {
  "kernelspec": {
   "display_name": "venv",
   "language": "python",
   "name": "python3"
  },
  "language_info": {
   "codemirror_mode": {
    "name": "ipython",
    "version": 3
   },
   "file_extension": ".py",
   "mimetype": "text/x-python",
   "name": "python",
   "nbconvert_exporter": "python",
   "pygments_lexer": "ipython3",
   "version": "3.10.8"
  },
  "vscode": {
   "interpreter": {
    "hash": "b23e814baf2fee96f2368e6a72b1238693681cf45c84ea9e07cfce4cf6e84dc1"
   }
  }
 },
 "nbformat": 4,
 "nbformat_minor": 5
}
