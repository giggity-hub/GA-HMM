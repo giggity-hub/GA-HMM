{
 "cells": [
  {
   "cell_type": "code",
   "execution_count": 25,
   "metadata": {},
   "outputs": [
    {
     "name": "stdout",
     "output_type": "stream",
     "text": [
      "29\n",
      "[1 1 1 1 1 1 1 1 1 1 1 4 4 4 4 4 4 2 2 2 3 3 3 3 0 0 0 0 0]\n",
      "58\n",
      "[1 1 1 1 1 1 1 1 4 4 4 4 0 0 0 0 0 0 0 0 0 0 0 0 0 0 4 4 4 4 4 2 2 2 2 2 2\n",
      " 2 2 2 3 3 3 3 3 3 3 3 3 3 3 3 3 3 3 2 2 2]\n",
      "73\n",
      "[2 2 2 2 2 2 2 2 2 2 2 2 2 2 2 2 2 2 2 2 1 4 4 4 4 4 4 4 4 4 4 4 0 0 0 0 0\n",
      " 0 0 0 0 0 0 0 0 0 0 4 4 3 3 3 3 3 3 1 1 1 1 1 1 1 1 1 1 1 1 1 1 1 1 1 1]\n"
     ]
    }
   ],
   "source": [
    "from python_speech_features import mfcc\n",
    "from python_speech_features import logfbank\n",
    "import scipy.io.wavfile as wav\n",
    "from sklearn.cluster import KMeans\n",
    "\n",
    "# [(rate, sig)]\n",
    "paths = [\"./data/fsdd/0_george_0.wav\", \"./data/fsdd/0_george_1.wav\", \"./data/fsdd/0_george_10.wav\"]\n",
    "data = [wav.read(path) for path in paths]\n",
    "# mfcc_feat = mfcc(sig,rate)\n",
    "# fbank_feat = logfbank(sig,rate)\n",
    "n_clusters = 5\n",
    "k_means = KMeans(n_clusters=n_clusters)\n",
    "\n",
    "\n",
    "\n",
    "for (rate, sig) in data:\n",
    "    mfcc_feat = mfcc(sig,rate)\n",
    "    \n",
    "    clustered_mfcc = k_means.fit(mfcc_feat)\n",
    "    print(len(mfcc_feat))\n",
    "    print(clustered_mfcc.labels_)\n",
    "\n",
    "# runs 10x with maxiteration=300 as default\n",
    "\n",
    "\n",
    "\n",
    "\n",
    "\n",
    "\n"
   ]
  }
 ],
 "metadata": {
  "kernelspec": {
   "display_name": "Python 3.10.8 ('venv': venv)",
   "language": "python",
   "name": "python3"
  },
  "language_info": {
   "codemirror_mode": {
    "name": "ipython",
    "version": 3
   },
   "file_extension": ".py",
   "mimetype": "text/x-python",
   "name": "python",
   "nbconvert_exporter": "python",
   "pygments_lexer": "ipython3",
   "version": "3.10.8"
  },
  "orig_nbformat": 4,
  "vscode": {
   "interpreter": {
    "hash": "b23e814baf2fee96f2368e6a72b1238693681cf45c84ea9e07cfce4cf6e84dc1"
   }
  }
 },
 "nbformat": 4,
 "nbformat_minor": 2
}
