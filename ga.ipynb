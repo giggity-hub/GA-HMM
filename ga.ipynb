{
 "cells": [
  {
   "cell_type": "code",
   "execution_count": 1,
   "metadata": {},
   "outputs": [],
   "source": [
    "import pygad\n",
    "import numpy\n",
    "import random\n",
    "from pomegranate import DiscreteDistribution, HiddenMarkovModel\n",
    "from hmm.hmm import ChromosomeHMM, normalize_rows, hmm_from_vector, random_chromosome\n",
    "from ga.crossover import single_row_cutpoint\n",
    "from ga.mutation import single_point_mutation"
   ]
  },
  {
   "cell_type": "code",
   "execution_count": 3,
   "metadata": {},
   "outputs": [
    {
     "ename": "AttributeError",
     "evalue": "'list' object has no attribute 'flatten'",
     "output_type": "error",
     "traceback": [
      "\u001b[1;31m---------------------------------------------------------------------------\u001b[0m",
      "\u001b[1;31mAttributeError\u001b[0m                            Traceback (most recent call last)",
      "Cell \u001b[1;32mIn [3], line 4\u001b[0m\n\u001b[0;32m      1\u001b[0m N_STATES \u001b[39m=\u001b[39m \u001b[39m6\u001b[39m\n\u001b[0;32m      2\u001b[0m ALPHABET \u001b[39m=\u001b[39m \u001b[39mlist\u001b[39m(\u001b[39m'\u001b[39m\u001b[39mABCDEFG\u001b[39m\u001b[39m'\u001b[39m)\n\u001b[1;32m----> 4\u001b[0m parent_chromosomes \u001b[39m=\u001b[39m random_chromosome(N_STATES, ALPHABET)\n\u001b[0;32m      5\u001b[0m parent_hmm \u001b[39m=\u001b[39m hmm_from_vector(parent_chromosomes, N_STATES, ALPHABET)\n\u001b[0;32m      7\u001b[0m \u001b[39m# parent_training_sequences = numpy.random.choice(ALPHABET, (10, 50))\u001b[39;00m\n\u001b[0;32m      8\u001b[0m \u001b[39m# parent_hmm.fit(parent_training_sequences)\u001b[39;00m\n\u001b[0;32m      9\u001b[0m \n\u001b[0;32m     10\u001b[0m \u001b[39m# Genetic Algorithm Steps\u001b[39;00m\n",
      "File \u001b[1;32mc:\\Users\\imigs\\Desktop\\GA HMM\\hmm\\hmm.py:79\u001b[0m, in \u001b[0;36mrandom_chromosome\u001b[1;34m(num_states, alphabet)\u001b[0m\n\u001b[0;32m     76\u001b[0m transition_probs \u001b[39m=\u001b[39m rand_stochastic_matrix(num_states, num_states)\n\u001b[0;32m     77\u001b[0m emission_probs \u001b[39m=\u001b[39m rand_stochastic_matrix(num_states, num_symbols)\n\u001b[1;32m---> 79\u001b[0m chromosome \u001b[39m=\u001b[39m start_probs \u001b[39m+\u001b[39m transition_probs\u001b[39m.\u001b[39;49mflatten() \u001b[39m+\u001b[39m emission_probs\u001b[39m.\u001b[39mflatten()\n\u001b[0;32m     81\u001b[0m \u001b[39mreturn\u001b[39;00m chromosome\n",
      "\u001b[1;31mAttributeError\u001b[0m: 'list' object has no attribute 'flatten'"
     ]
    }
   ],
   "source": [
    "N_STATES = 6\n",
    "ALPHABET = list('ABCDEFG')\n",
    "\n",
    "parent_chromosomes = random_chromosome(N_STATES, ALPHABET)\n",
    "parent_hmm = hmm_from_vector(parent_chromosomes, N_STATES, ALPHABET)\n",
    "\n",
    "# parent_training_sequences = numpy.random.choice(ALPHABET, (10, 50))\n",
    "# parent_hmm.fit(parent_training_sequences)\n",
    "\n",
    "# Genetic Algorithm Steps\n",
    "def fitness_func(solution, solution_idx):\n",
    "    # Wichtig!!!!!!!!!!!!!!!!!! zweiter parameter muss gesetzt werden sonst endlos loop\n",
    "    samples = parent_hmm.sample(1, 50)\n",
    "    # !!!!!!!!!!!!!!!!!! Die Parameter vom Child HMM sind nicht alle in range [0,1]\n",
    "    # manche negativ manche größer als 1\n",
    "    # vielleicht hab ich irgendwo reingespastet und die random generation ist nicht in der range [0,1]\n",
    "    child_hmm = hmm_from_vector(solution, N_STATES, ALPHABET)\n",
    "\n",
    "    total_score = []\n",
    "    for sample in samples:\n",
    "        total_score.append(child_hmm.log_probability(sample))\n",
    "\n",
    "    mean_score = sum(total_score)/len(samples)\n",
    "    if mean_score > 0:\n",
    "        x = child_hmm.forward_backward(sample)\n",
    "        print('shish')\n",
    "    return mean_score\n",
    "\n",
    "\n",
    "\n",
    "\n",
    "\n",
    "\n",
    "\n",
    "\n",
    "# Wichtig!!!!!\n",
    "# Die Crossover Funktion wird 1 mal pro generation aufgerufen\n",
    "# Offspring_size[0] ist die Population_size - keep_elitism (wenn keep_elitism > 0 ist, sonst abhängig von keep_parents)\n",
    "\n",
    "# Legal Cut Points = num_symbols, num_states\n",
    "\n",
    "\n",
    "\n",
    "\n",
    "\n",
    "\n",
    "# Random Child Vector\n",
    "# possible_solution = generate_random_solution_vector(N_STATES, ALPHABET)\n",
    "# print(possible_solution)\n",
    "\n",
    "# number of solutions to be selected as parent\n",
    "\n",
    "\n",
    "num_parents_mating=2\n",
    "\n",
    "# Initial Population (can not be generated py pygad because elements have to be row-stochastic)\n",
    "# Equivalent to sol_per_pop\n",
    "population_size = 5\n",
    "initial_population = [random_chromosome(N_STATES, ALPHABET) for i in range(population_size)]\n",
    "\n",
    "\n",
    "# Values can be only in range [0,1]\n",
    "init_range_low = 0\n",
    "init_range_high = 1\n",
    "\n",
    "# Evaluate fitness of vector\n",
    "# fitness = fitness_func(possible_solution, 0)\n",
    "# print(fitness)\n",
    "\n",
    "# def on_stop(ga_instance, res):\n",
    "#     print(res)\n",
    "\n",
    "# cut_points = \n",
    "\n",
    "crossover_func = single_row_cutpoint(N_STATES, len(ALPHABET))\n",
    "def mutation_func(offspring, ga_instance):\n",
    "    return offspring\n",
    "\n",
    "ga_instance = pygad.GA(num_generations=10,\n",
    "                    #    sol_per_pop=5,\n",
    "                       initial_population=initial_population,\n",
    "                       num_parents_mating=num_parents_mating,\n",
    "                       num_genes=(N_STATES + N_STATES**2 + N_STATES*len(ALPHABET)),\n",
    "                       fitness_func=fitness_func,\n",
    "                       crossover_type =crossover_func,\n",
    "                       keep_elitism=1,\n",
    "                    #    on_stop=on_stop,\n",
    "                        mutation_func=mutation_func,\n",
    "                       init_range_high=init_range_high,\n",
    "                       init_range_low=init_range_low)\n",
    "\n",
    "ga_instance.run()\n",
    "ga_instance.plot_fitness()"
   ]
  },
  {
   "cell_type": "code",
   "execution_count": null,
   "metadata": {},
   "outputs": [],
   "source": []
  }
 ],
 "metadata": {
  "kernelspec": {
   "display_name": "Python 3.10.8 ('venv': venv)",
   "language": "python",
   "name": "python3"
  },
  "language_info": {
   "codemirror_mode": {
    "name": "ipython",
    "version": 3
   },
   "file_extension": ".py",
   "mimetype": "text/x-python",
   "name": "python",
   "nbconvert_exporter": "python",
   "pygments_lexer": "ipython3",
   "version": "3.10.8"
  },
  "orig_nbformat": 4,
  "vscode": {
   "interpreter": {
    "hash": "b23e814baf2fee96f2368e6a72b1238693681cf45c84ea9e07cfce4cf6e84dc1"
   }
  }
 },
 "nbformat": 4,
 "nbformat_minor": 2
}
