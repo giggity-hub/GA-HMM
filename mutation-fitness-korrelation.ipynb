{
 "cells": [
  {
   "cell_type": "code",
   "execution_count": 1,
   "metadata": {},
   "outputs": [],
   "source": [
    "from ga.ga import Individual\n",
    "import copy\n",
    "from ga.mutation import mutate_one_gene"
   ]
  },
  {
   "cell_type": "code",
   "execution_count": null,
   "metadata": {},
   "outputs": [],
   "source": [
    "alphabet = list('abcdefghi')\n",
    "n_states = 6\n",
    "\n",
    "parent = Individual(n_states, alphabet)\n",
    "parent_hmm = parent.to_hmm()\n",
    "n_samples, len_samples = 1, 50 \n",
    "samples = parent_hmm.sample(n_samples, len_samples)\n",
    "\n",
    "\n",
    "clones = [ copy.deepcopy(parent) for i in range(50)]\n",
    "\n",
    "mutations = [mutate_one_gene(moped) for moped in clones]\n",
    "\n",
    "\n"
   ]
  }
 ],
 "metadata": {
  "kernelspec": {
   "display_name": "Python 3.10.8 ('venv': venv)",
   "language": "python",
   "name": "python3"
  },
  "language_info": {
   "codemirror_mode": {
    "name": "ipython",
    "version": 3
   },
   "file_extension": ".py",
   "mimetype": "text/x-python",
   "name": "python",
   "nbconvert_exporter": "python",
   "pygments_lexer": "ipython3",
   "version": "3.10.8"
  },
  "orig_nbformat": 4,
  "vscode": {
   "interpreter": {
    "hash": "b23e814baf2fee96f2368e6a72b1238693681cf45c84ea9e07cfce4cf6e84dc1"
   }
  }
 },
 "nbformat": 4,
 "nbformat_minor": 2
}
