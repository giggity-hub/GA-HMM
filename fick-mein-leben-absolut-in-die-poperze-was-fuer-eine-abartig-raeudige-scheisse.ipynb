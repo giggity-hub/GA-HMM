{
 "cells": [
  {
   "cell_type": "code",
   "execution_count": null,
   "metadata": {},
   "outputs": [],
   "source": [
    "import pygad\n",
    "import numpy"
   ]
  },
  {
   "cell_type": "code",
   "execution_count": null,
   "metadata": {},
   "outputs": [],
   "source": [
    "N_STATES = 6\n",
    "ALPHABET = list('ABCDEFG')\n",
    "\n",
    "\n",
    "def fitness_func(solution, solution_idx):\n",
    "    return numpy.random.rand()\n",
    "\n",
    "\n",
    "\n",
    "ga_instance = pygad.GA(num_generations=10,\n",
    "                       sol_per_pop=5,\n",
    "                    #    initial_population=initial_population,\n",
    "                       num_parents_mating=2,\n",
    "                       num_genes=20,\n",
    "                       fitness_func=fitness_func,\n",
    "                       crossover_type = \"single_point\",\n",
    "                       keep_elitism=1,\n",
    "                    #    on_stop=on_stop,\n",
    "                       init_range_high=4,\n",
    "                       init_range_low=1)\n",
    "\n",
    "ga_instance.run()\n",
    "ga_instance.plot_fitness()"
   ]
  }
 ],
 "metadata": {
  "kernelspec": {
   "display_name": "Python 3.10.8 ('venv': venv)",
   "language": "python",
   "name": "python3"
  },
  "language_info": {
   "name": "python",
   "version": "3.10.8"
  },
  "orig_nbformat": 4,
  "vscode": {
   "interpreter": {
    "hash": "b23e814baf2fee96f2368e6a72b1238693681cf45c84ea9e07cfce4cf6e84dc1"
   }
  }
 },
 "nbformat": 4,
 "nbformat_minor": 2
}
