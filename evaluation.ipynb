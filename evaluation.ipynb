{
 "cells": [
  {
   "cell_type": "code",
   "execution_count": 1,
   "metadata": {},
   "outputs": [],
   "source": [
    "%load_ext autoreload\n",
    "%autoreload 2\n",
    "\n",
    "from hmm.hmm import random_left_right_hmm_params\n",
    "import numpy as np\n",
    "import hmm.bw as bw\n",
    "from data.digits import DigitDataset\n",
    "import matplotlib.pyplot as plt\n",
    "import seaborn as sns\n",
    "from ga.numba_ga import GaHMM\n",
    "\n",
    "import ga.fitness as fitness\n",
    "import ga.mutation as mutation\n",
    "import ga.selection as selection\n",
    "import ga.crossover as crossover\n"
   ]
  },
  {
   "attachments": {},
   "cell_type": "markdown",
   "metadata": {},
   "source": [
    "#### Drawing n random HMMs and then optimizing them for k steps"
   ]
  },
  {
   "cell_type": "code",
   "execution_count": 2,
   "metadata": {},
   "outputs": [],
   "source": [
    "training_data = DigitDataset('train')\n",
    "n_samples = 10\n",
    "observations = training_data.get_first_n_observations(category=0, n_observations=n_samples)\n",
    "\n",
    "n_hmms = 50\n",
    "n_iterations = 2000\n",
    "\n",
    "n_states = 4\n",
    "n_symbols = 128\n",
    "\n",
    "# gabw.population"
   ]
  },
  {
   "cell_type": "code",
   "execution_count": 4,
   "metadata": {},
   "outputs": [
    {
     "ename": "IndexError",
     "evalue": "index 21 is out of bounds for axis 1 with size 21",
     "output_type": "error",
     "traceback": [
      "\u001b[1;31m---------------------------------------------------------------------------\u001b[0m",
      "\u001b[1;31mIndexError\u001b[0m                                Traceback (most recent call last)",
      "Cell \u001b[1;32mIn [4], line 13\u001b[0m\n\u001b[0;32m     11\u001b[0m gabw\u001b[39m.\u001b[39mparent_select_func \u001b[39m=\u001b[39m selection\u001b[39m.\u001b[39mrank_selection_factory(gabw\u001b[39m.\u001b[39mpopulation_size)\n\u001b[0;32m     12\u001b[0m gabw\u001b[39m.\u001b[39mtrain_population_with_baum_welch(observations, \u001b[39m10\u001b[39m)\n\u001b[1;32m---> 13\u001b[0m gabw\u001b[39m.\u001b[39;49mstart()\n\u001b[0;32m     14\u001b[0m gabw\u001b[39m.\u001b[39mplot()\n",
      "File \u001b[1;32mc:\\Users\\imigs\\Desktop\\GA HMM\\ga\\numba_ga.py:405\u001b[0m, in \u001b[0;36mGaHMM.start\u001b[1;34m(self)\u001b[0m\n\u001b[0;32m    400\u001b[0m \u001b[39mself\u001b[39m\u001b[39m.\u001b[39massign_ranks_to_population()\n\u001b[0;32m    401\u001b[0m \u001b[39mself\u001b[39m\u001b[39m.\u001b[39mupdate_logs()\n\u001b[1;32m--> 405\u001b[0m \u001b[39mself\u001b[39;49m\u001b[39m.\u001b[39;49mnext_iteration()\n",
      "File \u001b[1;32mc:\\Users\\imigs\\Desktop\\GA HMM\\ga\\numba_ga.py:388\u001b[0m, in \u001b[0;36mGaHMM.next_iteration\u001b[1;34m(self)\u001b[0m\n\u001b[0;32m    386\u001b[0m \u001b[39mself\u001b[39m\u001b[39m.\u001b[39msort_population()\n\u001b[0;32m    387\u001b[0m \u001b[39mself\u001b[39m\u001b[39m.\u001b[39massign_ranks_to_population()\n\u001b[1;32m--> 388\u001b[0m \u001b[39mself\u001b[39;49m\u001b[39m.\u001b[39;49mupdate_logs()\n\u001b[0;32m    390\u001b[0m \u001b[39m# self.current_generation should be equal to the number of \u001b[39;00m\n\u001b[0;32m    391\u001b[0m \u001b[39mself\u001b[39m\u001b[39m.\u001b[39mcurrent_generation \u001b[39m+\u001b[39m\u001b[39m=\u001b[39m \u001b[39m1\u001b[39m\n",
      "File \u001b[1;32mc:\\Users\\imigs\\Desktop\\GA HMM\\ga\\numba_ga.py:277\u001b[0m, in \u001b[0;36mGaHMM.update_logs\u001b[1;34m(self)\u001b[0m\n\u001b[0;32m    274\u001b[0m \u001b[39mdef\u001b[39;00m \u001b[39mupdate_logs\u001b[39m(\u001b[39mself\u001b[39m):\n\u001b[0;32m    276\u001b[0m     fitness_values \u001b[39m=\u001b[39m \u001b[39mself\u001b[39m\u001b[39m.\u001b[39mpopulation[:, \u001b[39mself\u001b[39m\u001b[39m.\u001b[39mslices\u001b[39m.\u001b[39mfitness\u001b[39m.\u001b[39mstart]\n\u001b[1;32m--> 277\u001b[0m     \u001b[39mself\u001b[39;49m\u001b[39m.\u001b[39;49mlogs[:, \u001b[39mself\u001b[39;49m\u001b[39m.\u001b[39;49mcurrent_generation] \u001b[39m=\u001b[39m fitness_values\n",
      "\u001b[1;31mIndexError\u001b[0m: index 21 is out of bounds for axis 1 with size 21"
     ]
    }
   ],
   "source": [
    "gabw = GaHMM(\n",
    "    n_symbols=n_symbols,\n",
    "    n_states=n_states,\n",
    "    population_size=n_hmms,\n",
    "    n_generations=10\n",
    ")\n",
    "gabw.fitness_func = fitness.mean_log_prob_fitness(observations)\n",
    "gabw.mutation_func = mutation.constant_uniform_mutation_factory(mutation_threshold=0.001)\n",
    "# gabw.mutation_func = mutation.dynamic_uniform_mutation_factory(0.001, beta=1)\n",
    "gabw.crossover_func = crossover.rank_weighted(crossover.uniform_crossover)\n",
    "gabw.parent_select_func = selection.rank_selection_factory(gabw.population_size)\n",
    "gabw.train_population_with_baum_welch(observations, 10)\n",
    "gabw.start()\n",
    "gabw.plot()"
   ]
  },
  {
   "cell_type": "code",
   "execution_count": null,
   "metadata": {},
   "outputs": [],
   "source": [
    "\n",
    "\n",
    "all_hmm_params = [random_left_right_hmm_params(n_states, n_symbols) for i in range(n_hmms)]\n",
    "log_probability_of_hmm_after_iteration = np.empty((n_hmms, n_iterations))\n",
    "\n",
    "\n",
    "for i in range(len(all_hmm_params)):\n",
    "    hmm_params = all_hmm_params[i]\n",
    "    reestimated_hmm_params, log_probaility_after_iteration = bw.train_multiple_observations(hmm_params, observations, n_iterations)\n",
    "    log_probability_of_hmm_after_iteration[i, :] = log_probaility_after_iteration"
   ]
  },
  {
   "cell_type": "code",
   "execution_count": null,
   "metadata": {},
   "outputs": [],
   "source": [
    "gabw_after_bw = GaHMM(\n",
    "    n_symbols=n_symbols,\n",
    "    n_states=n_states,\n",
    "    population_size=n_hmms,\n",
    "    n_generations=(n_iterations-10)\n",
    ")\n",
    "gabw_after_bw.fitness_func = fitness.numba_mean_log_prob_fitness(observations)\n",
    "gabw_after_bw.mutation_func = mutation.numba_constant_uniform_mutation2(mutation_threshold=0.001)\n",
    "gabw_after_bw.crossover_func = crossover.rank_weighted(crossover.uniform_crossover)\n",
    "gabw_after_bw.parent_select_func = selection.rank_selection_factory(gabw_after_bw.population_size)\n",
    "# gabw.train_population_with_baum_welch(observations, 1)\n",
    "gabw_after_bw.train_population_with_baum_welch(observations, n_iterations=10)\n",
    "gabw_after_bw.start()"
   ]
  },
  {
   "cell_type": "code",
   "execution_count": null,
   "metadata": {},
   "outputs": [],
   "source": [
    "gabw_before_bw = GaHMM(\n",
    "    n_symbols=n_symbols,\n",
    "    n_states=n_states,\n",
    "    population_size=n_hmms,\n",
    "    n_generations=200\n",
    ")\n",
    "gabw_before_bw.fitness_func = fitness.numba_mean_log_prob_fitness(observations)\n",
    "gabw_before_bw.mutation_func = mutation.numba_constant_uniform_mutation2(mutation_threshold=0.75)\n",
    "gabw_before_bw.crossover_func = crossover.rank_weighted(crossover.uniform_crossover)\n",
    "gabw_before_bw.parent_select_func = selection.rank_selection_factory(gabw_before_bw.population_size)\n",
    "# gabw.train_population_with_baum_welch(observations, 1)\n",
    "gabw_before_bw.start()\n",
    "# gabw_before_bw.train_population_with_baum_welch(observations, n_iterations=10)\n",
    "gabw_before_bw.plot()"
   ]
  },
  {
   "cell_type": "code",
   "execution_count": null,
   "metadata": {},
   "outputs": [],
   "source": [
    "gabw.population[0]"
   ]
  },
  {
   "cell_type": "code",
   "execution_count": null,
   "metadata": {},
   "outputs": [],
   "source": [
    "sns.lineplot(data=log_probability_of_hmm_after_iteration.T / n_samples)"
   ]
  },
  {
   "cell_type": "code",
   "execution_count": null,
   "metadata": {},
   "outputs": [],
   "source": [
    "gabw.plot()"
   ]
  },
  {
   "cell_type": "code",
   "execution_count": null,
   "metadata": {},
   "outputs": [],
   "source": [
    "\n",
    "gabw_after_bw.plot()"
   ]
  },
  {
   "cell_type": "code",
   "execution_count": null,
   "metadata": {},
   "outputs": [],
   "source": [
    "gabw_before_bw.plot()"
   ]
  }
 ],
 "metadata": {
  "kernelspec": {
   "display_name": "venv",
   "language": "python",
   "name": "python3"
  },
  "language_info": {
   "codemirror_mode": {
    "name": "ipython",
    "version": 3
   },
   "file_extension": ".py",
   "mimetype": "text/x-python",
   "name": "python",
   "nbconvert_exporter": "python",
   "pygments_lexer": "ipython3",
   "version": "3.10.8"
  },
  "orig_nbformat": 4,
  "vscode": {
   "interpreter": {
    "hash": "b23e814baf2fee96f2368e6a72b1238693681cf45c84ea9e07cfce4cf6e84dc1"
   }
  }
 },
 "nbformat": 4,
 "nbformat_minor": 2
}
