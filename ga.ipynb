{
 "cells": [
  {
   "cell_type": "code",
   "execution_count": 175,
   "metadata": {},
   "outputs": [
    {
     "name": "stdout",
     "output_type": "stream",
     "text": [
      "The autoreload extension is already loaded. To reload it, use:\n",
      "  %reload_ext autoreload\n",
      "-83.67387811357264\n",
      "-83.67387811357266\n",
      "-70.00024739376408\n",
      "-68.55631771256634\n"
     ]
    }
   ],
   "source": [
    "%load_ext autoreload\n",
    "%autoreload 2\n",
    "from lib.utils import rand_stochastic_matrix, rand_stochastic_vector\n",
    "import numpy.random as npr\n",
    "from hmm.bw import HMM\n",
    "import numpy\n",
    "from pomegranate import HiddenMarkovModel, DiscreteDistribution\n",
    "\n",
    "n_states = 3\n",
    "n_symbols = 5\n",
    "\n",
    "pi = rand_stochastic_vector(n_states)\n",
    "b = rand_stochastic_matrix(n_states, n_symbols)\n",
    "a = rand_stochastic_matrix(n_states, n_states)\n",
    "\n",
    "# print(pi)\n",
    "\n",
    "\n",
    "model1 = HMM(pi, b, a)\n",
    "\n",
    "alphabet = [i for i in range(n_symbols)]\n",
    "dists = [DiscreteDistribution(dict(zip(alphabet, b[i]))) for i in range(n_states)]\n",
    "model2 = HiddenMarkovModel.from_matrix(a, dists, pi)\n",
    "\n",
    "T = 50\n",
    "O = npr.randint(low=0, high=n_symbols,  size=T)\n",
    "\n",
    "p1 = model1.log_prob(O)\n",
    "p2 = model2.log_probability(O)\n",
    "print(p1)\n",
    "print(p2)\n",
    "\n",
    "model1.fit(O, max_iterations=1000)\n",
    "model2.fit([O], max_iterations=1000)\n",
    "\n",
    "p1 = model1.log_prob(O)\n",
    "p2 = model2.log_probability(O)\n",
    "print(p1)\n",
    "print(p2)\n",
    "\n"
   ]
  },
  {
   "cell_type": "code",
   "execution_count": null,
   "metadata": {},
   "outputs": [],
   "source": []
  },
  {
   "cell_type": "code",
   "execution_count": null,
   "metadata": {},
   "outputs": [],
   "source": []
  },
  {
   "cell_type": "code",
   "execution_count": null,
   "metadata": {},
   "outputs": [],
   "source": []
  },
  {
   "cell_type": "code",
   "execution_count": null,
   "metadata": {},
   "outputs": [],
   "source": []
  },
  {
   "cell_type": "code",
   "execution_count": null,
   "metadata": {},
   "outputs": [],
   "source": [
    "training_data = load_dataset(dataset='train')\n",
    "n_samples = 12\n",
    "n_generations=10\n",
    "n_states=4\n",
    "alphabet = [i for i in range(128)]\n",
    "pop_size = 10\n",
    "\n",
    "new_individual= individual_factory(\n",
    "    n_states=n_states,\n",
    "    alphabet=alphabet,\n",
    "    hmm_param_generator= random_left_right_hmm_params\n",
    ")\n",
    "\n",
    "\n",
    "mutation_func = constant_uniform_mutation(0.1, 0.5)\n",
    "\n",
    "\n",
    "for digit in range(1):\n",
    "    samples = training_data[digit][:n_samples]\n",
    "    fitness_func = log_prob_fitness(samples)\n",
    "    initial_population=[new_individual() for i in range(pop_size)]\n",
    "\n",
    "    ga = GeneticAlgorithm(\n",
    "        initial_population=initial_population,\n",
    "        n_generations=n_generations,\n",
    "        fitness_func=fitness_func,\n",
    "        crossover_func=mean_crossover,\n",
    "        mutation_func=mutation_func,\n",
    "        parent_select_func=pairwise_fittest)\n",
    "\n",
    "    ga.start()\n",
    "    ga.plot()\n",
    "    "
   ]
  },
  {
   "cell_type": "code",
   "execution_count": null,
   "metadata": {},
   "outputs": [],
   "source": []
  },
  {
   "cell_type": "code",
   "execution_count": null,
   "metadata": {},
   "outputs": [],
   "source": [
    "\n",
    "\n",
    "initial_population\n",
    "\n",
    "# Every category needs its own genetic algorithm\n",
    "# Die Fitness Function ist für alle Buckets ja unterschiedlich :(((())))\n",
    "# genetic algorithms\n",
    "for i in range(10):\n",
    "    # fitness_func = fixed_sample_fitness_func(samples=)\n",
    "\n",
    "# generate Genetic Algorithm"
   ]
  },
  {
   "cell_type": "code",
   "execution_count": null,
   "metadata": {},
   "outputs": [],
   "source": []
  }
 ],
 "metadata": {
  "kernelspec": {
   "display_name": "ga_hmm",
   "language": "python",
   "name": "ga_hmm"
  },
  "language_info": {
   "codemirror_mode": {
    "name": "ipython",
    "version": 3
   },
   "file_extension": ".py",
   "mimetype": "text/x-python",
   "name": "python",
   "nbconvert_exporter": "python",
   "pygments_lexer": "ipython3",
   "version": "3.10.8"
  },
  "orig_nbformat": 4,
  "vscode": {
   "interpreter": {
    "hash": "b23e814baf2fee96f2368e6a72b1238693681cf45c84ea9e07cfce4cf6e84dc1"
   }
  }
 },
 "nbformat": 4,
 "nbformat_minor": 2
}
