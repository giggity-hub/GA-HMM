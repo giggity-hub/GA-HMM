{
 "cells": [
  {
   "cell_type": "code",
   "execution_count": null,
   "metadata": {},
   "outputs": [],
   "source": [
    "import pygad\n",
    "import numpy\n",
    "import random\n",
    "from pomegranate import DiscreteDistribution, HiddenMarkovModel\n",
    "from hmm import ChromosomeHMM"
   ]
  },
  {
   "cell_type": "code",
   "execution_count": null,
   "metadata": {},
   "outputs": [],
   "source": [
    "def normalize_rows(prob_array):\n",
    "    axis = prob_array.ndim -1\n",
    "    row_sums = numpy.sum(prob_array, axis=axis, keepdims=True)\n",
    "    return prob_array / row_sums"
   ]
  },
  {
   "cell_type": "code",
   "execution_count": null,
   "metadata": {},
   "outputs": [],
   "source": [
    "def create_discrete_hmm(num_states, alphabet):\n",
    "\n",
    "    # random.rand(row_count, col_count)\n",
    "    state_probabilities = numpy.random.rand(num_states, len(alphabet))\n",
    "    state_probabilities = normalize_rows(state_probabilities)\n",
    "    state_dists = [DiscreteDistribution(dict(zip(alphabet, probs))) for probs in state_probabilities]\n",
    "    \n",
    "    # create random nxn matrix\n",
    "    trans_mat = numpy.random.rand(num_states, num_states)\n",
    "    trans_mat = normalize_rows(trans_mat)\n",
    "\n",
    "    starts = numpy.random.rand(num_states)\n",
    "    starts = normalize_rows(starts)\n",
    "\n",
    "    model = HiddenMarkovModel.from_matrix(trans_mat, state_dists, starts)\n",
    "    return model"
   ]
  },
  {
   "cell_type": "code",
   "execution_count": null,
   "metadata": {},
   "outputs": [],
   "source": [
    "def generate_random_solution_vector(num_states, alphabet):\n",
    "    num_symbols=len(alphabet)\n",
    "\n",
    "    start_probs = normalize_rows(numpy.random.rand(num_states))\n",
    "    emission_probs = normalize_rows(numpy.random.rand(num_states, num_symbols))\n",
    "    transition_probs = normalize_rows(numpy.random.rand(num_states, num_states))\n",
    "\n",
    "    vector = [*start_probs, *emission_probs.flatten(), *transition_probs.flatten()]\n",
    "    return vector"
   ]
  },
  {
   "cell_type": "code",
   "execution_count": null,
   "metadata": {},
   "outputs": [],
   "source": [
    "def hmm_from_vector(vector, n_states, alphabet):\n",
    "    n_symbols = len(alphabet)\n",
    "    start_probs_slice = n_states \n",
    "    state_probs_slice = start_probs_slice + n_states*n_symbols\n",
    "\n",
    "    \n",
    "    start_probs = vector[:start_probs_slice]\n",
    "\n",
    "    state_probs_vector = vector[start_probs_slice: state_probs_slice]\n",
    "    state_probs_matrix = numpy.reshape(state_probs_vector, (n_states, n_symbols))\n",
    "    state_probs_dists = [DiscreteDistribution(dict(zip(alphabet, probs))) for probs in state_probs_matrix]\n",
    "\n",
    "    trans_probs_vector = vector[state_probs_slice:]\n",
    "    trans_probs_matrix = numpy.reshape(trans_probs_vector, (n_states, n_states))\n",
    "\n",
    "    model = HiddenMarkovModel.from_matrix(trans_probs_matrix, state_probs_dists, start_probs)\n",
    "    return model"
   ]
  },
  {
   "cell_type": "code",
   "execution_count": null,
   "metadata": {},
   "outputs": [],
   "source": [
    "test_hmm = create_discrete_hmm(4, list('abcdef'))\n",
    "print(test_hmm.to_json())\n",
    "\n",
    "# representation as dictionary\n",
    "\n",
    "# mutation \n",
    "\n",
    "\n",
    "# representation as matrix dict\n",
    "# emission_probs => N*M numpy array\n",
    "# transition_probs => N*N numpy array\n",
    "# initial_probs => N numpy array\n",
    "\n",
    "# HMM-matrix representation to HMM\n"
   ]
  },
  {
   "cell_type": "code",
   "execution_count": null,
   "metadata": {},
   "outputs": [],
   "source": [
    "init_range_low = 0\n",
    "init_range_high = 1\n",
    "\n",
    "N_STATES = 6\n",
    "ALPHABET = list('ABCDEFG')\n",
    "\n",
    "parent_hmm = create_discrete_hmm(N_STATES, ALPHABET)\n",
    "\n",
    "# Genetic Algorithm Steps\n",
    "def fitness_func(solution, solution_idx):\n",
    "    samples = parent_hmm.sample(1, 50)\n",
    "    child_hmm = hmm_from_vector(solution, N_STATES, ALPHABET)\n",
    "\n",
    "    total_score = 0\n",
    "    for sample in samples:\n",
    "        total_score += child_hmm.log_probability(sample)\n",
    "    mean_score = total_score/len(samples)\n",
    "    return mean_score\n",
    "\n",
    "\n",
    "def crossover_func(parents, offspring_size, ga_instance):\n",
    "    offspring = []\n",
    "    idx = 0\n",
    "    while len(offspring) != offspring_size[0]:\n",
    "        parent1 = parents[idx % parents.shape[0], :].copy()\n",
    "        parent2 = parents[(idx + 1) % parents.shape[0], :].copy()\n",
    "\n",
    "        random_split_point = numpy.random.choice(range(offspring_size[1]))\n",
    "\n",
    "        parent1[random_split_point:] = parent2[random_split_point:]\n",
    "\n",
    "        offspring.append(parent1)\n",
    "\n",
    "        idx += 1\n",
    "\n",
    "    return numpy.array(offspring)\n",
    "\n",
    "\n",
    "# Random Child Vector\n",
    "possible_solution = generate_random_solution_vector(N_STATES, ALPHABET)\n",
    "print(possible_solution)\n",
    "\n",
    "# number of solutions to be selected as parents\n",
    "num_parents_mating=2\n",
    "\n",
    "# Initial Population (can not be generated py pygad because elements have to be row-stochastic)\n",
    "initial_population = []\n",
    "\n",
    "# Evaluate fitness of vector\n",
    "# fitness = fitness_func(possible_solution, 0)\n",
    "# print(fitness)\n",
    "\n",
    "ga_instance = pygad.GA(num_generations=10,\n",
    "                       sol_per_pop=5,\n",
    "                       num_parents_mating=2,\n",
    "                       num_genes=(N_STATES + N_STATES**2 + N_STATES*len(ALPHABET)),\n",
    "                       fitness_func=fitness_func,\n",
    "                       crossover_type=crossover_func,\n",
    "                       init_range_high=init_range_high,\n",
    "                       init_range_low=init_range_low)\n",
    "\n",
    "ga_instance.run()\n",
    "ga_instance.plot_fitness()"
   ]
  }
 ],
 "metadata": {
  "kernelspec": {
   "display_name": "Python 3.10.8 ('venv': venv)",
   "language": "python",
   "name": "python3"
  },
  "language_info": {
   "codemirror_mode": {
    "name": "ipython",
    "version": 3
   },
   "file_extension": ".py",
   "mimetype": "text/x-python",
   "name": "python",
   "nbconvert_exporter": "python",
   "pygments_lexer": "ipython3",
   "version": "3.10.8"
  },
  "orig_nbformat": 4,
  "vscode": {
   "interpreter": {
    "hash": "b23e814baf2fee96f2368e6a72b1238693681cf45c84ea9e07cfce4cf6e84dc1"
   }
  }
 },
 "nbformat": 4,
 "nbformat_minor": 2
}
